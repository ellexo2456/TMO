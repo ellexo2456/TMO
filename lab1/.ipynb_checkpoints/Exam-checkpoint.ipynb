{
 "cells": [
  {
   "cell_type": "code",
   "execution_count": 1,
   "id": "121a9bba-6c28-468d-b274-d41e29007236",
   "metadata": {
    "ExecuteTime": {
     "end_time": "2024-04-26T07:58:31.336638Z",
     "start_time": "2024-04-26T07:58:31.184491Z"
    }
   },
   "outputs": [
    {
     "ename": "SyntaxError",
     "evalue": "invalid syntax (760121238.py, line 1)",
     "output_type": "error",
     "traceback": [
      "\u001B[0;36m  Cell \u001B[0;32mIn[1], line 1\u001B[0;36m\u001B[0m\n\u001B[0;31m    В качестве набора данных будем использовать набор данных по сдаче экзаменов.\u001B[0m\n\u001B[0m      ^\u001B[0m\n\u001B[0;31mSyntaxError\u001B[0m\u001B[0;31m:\u001B[0m invalid syntax\n"
     ]
    }
   ],
   "source": [
    "В качестве набора данных будем использовать набор данных по сдаче экзаменов.\n",
    "Файл содержит столбцы \"Количество потраченных часов\", \"Оценка на предыдущем экзамене\" и \"Сдача\\Провал\""
   ]
  },
  {
   "cell_type": "code",
   "execution_count": null,
   "id": "33b01ea2-1640-4d09-8645-702fa6ee486d",
   "metadata": {
    "ExecuteTime": {
     "start_time": "2024-04-26T07:58:31.193089Z"
    }
   },
   "outputs": [],
   "source": [
    "import numpy as np\n",
    "import pandas as pd\n",
    "from sklearn import preprocessing\n",
    "import seaborn as sns\n",
    "import matplotlib.pyplot as plt\n",
    "from sklearn.cluster import KMeans\n",
    "from sklearn.metrics import silhouette_score,accuracy_score\n",
    "from sklearn.model_selection import train_test_split\n",
    "from sklearn import svm\n",
    "from sklearn.metrics import mean_squared_error, r2_score, mean_absolute_error"
   ]
  },
  {
   "cell_type": "code",
   "execution_count": null,
   "id": "2c51a35f-b2d7-4888-bc62-b2f6f31e8bf1",
   "metadata": {
    "ExecuteTime": {
     "start_time": "2024-04-26T07:58:31.193287Z"
    }
   },
   "outputs": [],
   "source": [
    "data = pd.read_csv('student_exam_data.csv', sep=\",\")"
   ]
  },
  {
   "cell_type": "code",
   "execution_count": null,
   "id": "87b19469-43ae-4de1-a879-af90825bc3ec",
   "metadata": {
    "ExecuteTime": {
     "start_time": "2024-04-26T07:58:31.193399Z"
    }
   },
   "outputs": [],
   "source": [
    "data.head()"
   ]
  },
  {
   "cell_type": "code",
   "execution_count": null,
   "id": "67a625d2-a614-4056-b251-9702642f5a5a",
   "metadata": {
    "ExecuteTime": {
     "start_time": "2024-04-26T07:58:31.193543Z"
    }
   },
   "outputs": [],
   "source": [
    "minmax = preprocessing.MinMaxScaler(feature_range=(0,1))"
   ]
  },
  {
   "cell_type": "code",
   "execution_count": 2,
   "id": "92463af9-2987-46cd-8e5b-3f7b28799600",
   "metadata": {
    "ExecuteTime": {
     "start_time": "2024-04-26T07:58:31.207137Z"
    }
   },
   "outputs": [
    {
     "ename": "NameError",
     "evalue": "name 'minmax' is not defined",
     "output_type": "error",
     "traceback": [
      "\u001B[0;31m---------------------------------------------------------------------------\u001B[0m",
      "\u001B[0;31mNameError\u001B[0m                                 Traceback (most recent call last)",
      "Cell \u001B[0;32mIn[2], line 1\u001B[0m\n\u001B[0;32m----> 1\u001B[0m data[\u001B[38;5;124m'\u001B[39m\u001B[38;5;124mStudy Hours\u001B[39m\u001B[38;5;124m'\u001B[39m] \u001B[38;5;241m=\u001B[39m \u001B[43mminmax\u001B[49m\u001B[38;5;241m.\u001B[39mfit_transform(data[\u001B[38;5;124m'\u001B[39m\u001B[38;5;124mStudy Hours\u001B[39m\u001B[38;5;124m'\u001B[39m]\u001B[38;5;241m.\u001B[39mvalues\u001B[38;5;241m.\u001B[39mreshape(\u001B[38;5;241m-\u001B[39m\u001B[38;5;241m1\u001B[39m, \u001B[38;5;241m1\u001B[39m))\n\u001B[1;32m      2\u001B[0m data[\u001B[38;5;124m'\u001B[39m\u001B[38;5;124mPrevious Exam Score\u001B[39m\u001B[38;5;124m'\u001B[39m] \u001B[38;5;241m=\u001B[39m minmax\u001B[38;5;241m.\u001B[39mfit_transform(data[\u001B[38;5;124m'\u001B[39m\u001B[38;5;124mPrevious Exam Score\u001B[39m\u001B[38;5;124m'\u001B[39m]\u001B[38;5;241m.\u001B[39mvalues\u001B[38;5;241m.\u001B[39mreshape(\u001B[38;5;241m-\u001B[39m\u001B[38;5;241m1\u001B[39m, \u001B[38;5;241m1\u001B[39m))\n",
      "\u001B[0;31mNameError\u001B[0m: name 'minmax' is not defined"
     ]
    }
   ],
   "source": [
    "data['Study Hours'] = minmax.fit_transform(data['Study Hours'].values.reshape(-1, 1))\n",
    "data['Previous Exam Score'] = minmax.fit_transform(data['Previous Exam Score'].values.reshape(-1, 1))"
   ]
  },
  {
   "cell_type": "code",
   "execution_count": 3,
   "id": "5c229068-c5a0-4758-9839-4fa8bad9c1f9",
   "metadata": {
    "ExecuteTime": {
     "start_time": "2024-04-26T07:58:31.252244Z"
    }
   },
   "outputs": [
    {
     "ename": "NameError",
     "evalue": "name 'minmax' is not defined",
     "output_type": "error",
     "traceback": [
      "\u001B[0;31m---------------------------------------------------------------------------\u001B[0m",
      "\u001B[0;31mNameError\u001B[0m                                 Traceback (most recent call last)",
      "Cell \u001B[0;32mIn[3], line 1\u001B[0m\n\u001B[0;32m----> 1\u001B[0m data[\u001B[38;5;124m'\u001B[39m\u001B[38;5;124mPrevious Exam Score\u001B[39m\u001B[38;5;124m'\u001B[39m] \u001B[38;5;241m=\u001B[39m \u001B[43mminmax\u001B[49m\u001B[38;5;241m.\u001B[39mfit_transform(data[\u001B[38;5;124m'\u001B[39m\u001B[38;5;124mPrevious Exam Score\u001B[39m\u001B[38;5;124m'\u001B[39m]\u001B[38;5;241m.\u001B[39mvalues\u001B[38;5;241m.\u001B[39mreshape(\u001B[38;5;241m-\u001B[39m\u001B[38;5;241m1\u001B[39m, \u001B[38;5;241m1\u001B[39m))\n",
      "\u001B[0;31mNameError\u001B[0m: name 'minmax' is not defined"
     ]
    }
   ],
   "source": [
    "data['Previous Exam Score'] = minmax.fit_transform(data['Previous Exam Score'].values.reshape(-1, 1))"
   ]
  },
  {
   "cell_type": "code",
   "execution_count": 4,
   "id": "4e8a46ef-5ce7-4671-9b94-d9574ca23408",
   "metadata": {
    "ExecuteTime": {
     "end_time": "2024-04-26T07:58:31.614904Z",
     "start_time": "2024-04-26T07:58:31.553800Z"
    }
   },
   "outputs": [
    {
     "ename": "NameError",
     "evalue": "name 'plt' is not defined",
     "output_type": "error",
     "traceback": [
      "\u001B[0;31m---------------------------------------------------------------------------\u001B[0m",
      "\u001B[0;31mNameError\u001B[0m                                 Traceback (most recent call last)",
      "Cell \u001B[0;32mIn[4], line 1\u001B[0m\n\u001B[0;32m----> 1\u001B[0m \u001B[43mplt\u001B[49m\u001B[38;5;241m.\u001B[39mfigure(figsize\u001B[38;5;241m=\u001B[39m(\u001B[38;5;241m15\u001B[39m, \u001B[38;5;241m6\u001B[39m))\n\u001B[1;32m      3\u001B[0m plt\u001B[38;5;241m.\u001B[39msubplot(\u001B[38;5;241m1\u001B[39m, \u001B[38;5;241m2\u001B[39m, \u001B[38;5;241m1\u001B[39m)\n\u001B[1;32m      4\u001B[0m sns\u001B[38;5;241m.\u001B[39mhistplot(data, x\u001B[38;5;241m=\u001B[39m\u001B[38;5;124m'\u001B[39m\u001B[38;5;124mStudy Hours\u001B[39m\u001B[38;5;124m'\u001B[39m, hue\u001B[38;5;241m=\u001B[39m\u001B[38;5;124m'\u001B[39m\u001B[38;5;124mPass/Fail\u001B[39m\u001B[38;5;124m'\u001B[39m,  multiple\u001B[38;5;241m=\u001B[39m\u001B[38;5;124m\"\u001B[39m\u001B[38;5;124mstack\u001B[39m\u001B[38;5;124m\"\u001B[39m, palette\u001B[38;5;241m=\u001B[39m\u001B[38;5;124m\"\u001B[39m\u001B[38;5;124mviridis\u001B[39m\u001B[38;5;124m\"\u001B[39m)\n",
      "\u001B[0;31mNameError\u001B[0m: name 'plt' is not defined"
     ]
    }
   ],
   "source": [
    "plt.figure(figsize=(15, 6))\n",
    "\n",
    "plt.subplot(1, 2, 1)\n",
    "sns.histplot(data, x='Study Hours', hue='Pass/Fail',  multiple=\"stack\", palette=\"viridis\")\n",
    "plt.title('Study Hours Distribution by Pass/Fail Status')\n",
    "\n",
    "plt.subplot(1, 2, 2)\n",
    "sns.histplot(data, x='Previous Exam Score', hue='Pass/Fail', multiple=\"stack\", palette=\"viridis\")\n",
    "plt.title('Previous Exam Score Distribution by Pass/Fail Status')\n",
    "\n",
    "plt.tight_layout()\n",
    "plt.show()"
   ]
  },
  {
   "cell_type": "code",
   "execution_count": 5,
   "id": "13277bd8-6396-4e4b-adfb-06dc4a73b687",
   "metadata": {
    "ExecuteTime": {
     "start_time": "2024-04-26T07:58:31.603263Z"
    }
   },
   "outputs": [
    {
     "ename": "NameError",
     "evalue": "name 'plt' is not defined",
     "output_type": "error",
     "traceback": [
      "\u001B[0;31m---------------------------------------------------------------------------\u001B[0m",
      "\u001B[0;31mNameError\u001B[0m                                 Traceback (most recent call last)",
      "Cell \u001B[0;32mIn[5], line 1\u001B[0m\n\u001B[0;32m----> 1\u001B[0m \u001B[43mplt\u001B[49m\u001B[38;5;241m.\u001B[39mfigure(figsize\u001B[38;5;241m=\u001B[39m(\u001B[38;5;241m15\u001B[39m,\u001B[38;5;241m5\u001B[39m))\n\u001B[1;32m      3\u001B[0m plt\u001B[38;5;241m.\u001B[39msubplot(\u001B[38;5;241m1\u001B[39m, \u001B[38;5;241m2\u001B[39m, \u001B[38;5;241m1\u001B[39m)\n\u001B[1;32m      4\u001B[0m sns\u001B[38;5;241m.\u001B[39mhistplot(data\u001B[38;5;241m.\u001B[39mloc[data[\u001B[38;5;124m'\u001B[39m\u001B[38;5;124mPass/Fail\u001B[39m\u001B[38;5;124m'\u001B[39m] \u001B[38;5;241m==\u001B[39m \u001B[38;5;241m0\u001B[39m], x\u001B[38;5;241m=\u001B[39m\u001B[38;5;124m\"\u001B[39m\u001B[38;5;124mStudy Hours\u001B[39m\u001B[38;5;124m\"\u001B[39m, color\u001B[38;5;241m=\u001B[39msns\u001B[38;5;241m.\u001B[39mcolor_palette(\u001B[38;5;124m\"\u001B[39m\u001B[38;5;124mviridis\u001B[39m\u001B[38;5;124m\"\u001B[39m)[\u001B[38;5;241m1\u001B[39m])\n",
      "\u001B[0;31mNameError\u001B[0m: name 'plt' is not defined"
     ]
    }
   ],
   "source": [
    "plt.figure(figsize=(15,5))\n",
    "\n",
    "plt.subplot(1, 2, 1)\n",
    "sns.histplot(data.loc[data['Pass/Fail'] == 0], x=\"Study Hours\", color=sns.color_palette(\"viridis\")[1])\n",
    "plt.title(\"Study Hours Distribution for Fail\")\n",
    "\n",
    "plt.subplot(1, 2, 2)\n",
    "sns.histplot(data.loc[data['Pass/Fail'] == 1], x=\"Study Hours\", color=sns.color_palette(\"viridis\")[1])\n",
    "plt.title(\"Study Hours Distribution for Pass\")\n",
    "\n",
    "plt.tight_layout()\n",
    "plt.show()"
   ]
  },
  {
   "cell_type": "code",
   "execution_count": 6,
   "id": "552c5cbc-c83b-49ea-92e1-6fbe41401ea7",
   "metadata": {
    "ExecuteTime": {
     "end_time": "2024-04-26T07:58:31.766083Z",
     "start_time": "2024-04-26T07:58:31.686021Z"
    }
   },
   "outputs": [
    {
     "ename": "NameError",
     "evalue": "name 'plt' is not defined",
     "output_type": "error",
     "traceback": [
      "\u001B[0;31m---------------------------------------------------------------------------\u001B[0m",
      "\u001B[0;31mNameError\u001B[0m                                 Traceback (most recent call last)",
      "Cell \u001B[0;32mIn[6], line 1\u001B[0m\n\u001B[0;32m----> 1\u001B[0m \u001B[43mplt\u001B[49m\u001B[38;5;241m.\u001B[39mfigure(figsize\u001B[38;5;241m=\u001B[39m(\u001B[38;5;241m15\u001B[39m,\u001B[38;5;241m5\u001B[39m))\n\u001B[1;32m      3\u001B[0m plt\u001B[38;5;241m.\u001B[39msubplot(\u001B[38;5;241m1\u001B[39m, \u001B[38;5;241m2\u001B[39m, \u001B[38;5;241m1\u001B[39m)\n\u001B[1;32m      4\u001B[0m sns\u001B[38;5;241m.\u001B[39mhistplot(data\u001B[38;5;241m.\u001B[39mloc[data[\u001B[38;5;124m'\u001B[39m\u001B[38;5;124mPass/Fail\u001B[39m\u001B[38;5;124m'\u001B[39m] \u001B[38;5;241m==\u001B[39m \u001B[38;5;241m0\u001B[39m], x\u001B[38;5;241m=\u001B[39m\u001B[38;5;124m\"\u001B[39m\u001B[38;5;124mPrevious Exam Score\u001B[39m\u001B[38;5;124m\"\u001B[39m, color\u001B[38;5;241m=\u001B[39msns\u001B[38;5;241m.\u001B[39mcolor_palette(\u001B[38;5;124m\"\u001B[39m\u001B[38;5;124mviridis\u001B[39m\u001B[38;5;124m\"\u001B[39m)[\u001B[38;5;241m1\u001B[39m])\n",
      "\u001B[0;31mNameError\u001B[0m: name 'plt' is not defined"
     ]
    }
   ],
   "source": [
    "plt.figure(figsize=(15,5))\n",
    "\n",
    "plt.subplot(1, 2, 1)\n",
    "sns.histplot(data.loc[data['Pass/Fail'] == 0], x=\"Previous Exam Score\", color=sns.color_palette(\"viridis\")[1])\n",
    "plt.title(\"Previous Exam Score Distribution for Fail\")\n",
    "\n",
    "plt.subplot(1, 2, 2)\n",
    "sns.histplot(data.loc[data['Pass/Fail'] == 1], x=\"Previous Exam Score\", color=sns.color_palette(\"viridis\")[1])\n",
    "plt.title(\"Previous Exam Score Distribution for Pass\")\n",
    "\n",
    "plt.tight_layout()\n",
    "plt.show()"
   ]
  },
  {
   "cell_type": "code",
   "execution_count": 7,
   "id": "11c9b9f9-228d-497f-ad6f-cba169492a4f",
   "metadata": {
    "ExecuteTime": {
     "start_time": "2024-04-26T07:58:31.737867Z"
    }
   },
   "outputs": [
    {
     "ename": "NameError",
     "evalue": "name 'sns' is not defined",
     "output_type": "error",
     "traceback": [
      "\u001B[0;31m---------------------------------------------------------------------------\u001B[0m",
      "\u001B[0;31mNameError\u001B[0m                                 Traceback (most recent call last)",
      "Cell \u001B[0;32mIn[7], line 1\u001B[0m\n\u001B[0;32m----> 1\u001B[0m \u001B[43msns\u001B[49m\u001B[38;5;241m.\u001B[39mcountplot(x\u001B[38;5;241m=\u001B[39m\u001B[38;5;124m'\u001B[39m\u001B[38;5;124mPass/Fail\u001B[39m\u001B[38;5;124m'\u001B[39m, data\u001B[38;5;241m=\u001B[39mdata)\n",
      "\u001B[0;31mNameError\u001B[0m: name 'sns' is not defined"
     ]
    }
   ],
   "source": [
    "sns.countplot(x='Pass/Fail', data=data)"
   ]
  },
  {
   "cell_type": "code",
   "execution_count": 8,
   "id": "ad54ec43-fd86-4421-8b9d-1056833fb962",
   "metadata": {
    "ExecuteTime": {
     "end_time": "2024-04-26T07:58:31.960771Z",
     "start_time": "2024-04-26T07:58:31.834793Z"
    }
   },
   "outputs": [
    {
     "ename": "NameError",
     "evalue": "name 'sns' is not defined",
     "output_type": "error",
     "traceback": [
      "\u001B[0;31m---------------------------------------------------------------------------\u001B[0m",
      "\u001B[0;31mNameError\u001B[0m                                 Traceback (most recent call last)",
      "Cell \u001B[0;32mIn[8], line 1\u001B[0m\n\u001B[0;32m----> 1\u001B[0m \u001B[43msns\u001B[49m\u001B[38;5;241m.\u001B[39mscatterplot(x\u001B[38;5;241m=\u001B[39m\u001B[38;5;124m'\u001B[39m\u001B[38;5;124mPrevious Exam Score\u001B[39m\u001B[38;5;124m'\u001B[39m, y\u001B[38;5;241m=\u001B[39m\u001B[38;5;124m'\u001B[39m\u001B[38;5;124mStudy Hours\u001B[39m\u001B[38;5;124m'\u001B[39m, data\u001B[38;5;241m=\u001B[39mdata, hue\u001B[38;5;241m=\u001B[39m\u001B[38;5;124m'\u001B[39m\u001B[38;5;124mPass/Fail\u001B[39m\u001B[38;5;124m'\u001B[39m)\n\u001B[1;32m      2\u001B[0m plt\u001B[38;5;241m.\u001B[39mlegend(bbox_to_anchor\u001B[38;5;241m=\u001B[39m(\u001B[38;5;241m1.05\u001B[39m, \u001B[38;5;241m1\u001B[39m))\n",
      "\u001B[0;31mNameError\u001B[0m: name 'sns' is not defined"
     ]
    }
   ],
   "source": [
    "sns.scatterplot(x='Previous Exam Score', y='Study Hours', data=data, hue='Pass/Fail')\n",
    "plt.legend(bbox_to_anchor=(1.05, 1))"
   ]
  },
  {
   "cell_type": "code",
   "execution_count": 9,
   "id": "bb8365f5-48fc-4395-8b50-9d1e3c99977f",
   "metadata": {
    "ExecuteTime": {
     "start_time": "2024-04-26T07:58:31.913628Z"
    }
   },
   "outputs": [
    {
     "ename": "NameError",
     "evalue": "name 'sns' is not defined",
     "output_type": "error",
     "traceback": [
      "\u001B[0;31m---------------------------------------------------------------------------\u001B[0m",
      "\u001B[0;31mNameError\u001B[0m                                 Traceback (most recent call last)",
      "Cell \u001B[0;32mIn[9], line 1\u001B[0m\n\u001B[0;32m----> 1\u001B[0m \u001B[43msns\u001B[49m\u001B[38;5;241m.\u001B[39mpairplot(data, hue\u001B[38;5;241m=\u001B[39m\u001B[38;5;124m\"\u001B[39m\u001B[38;5;124mPass/Fail\u001B[39m\u001B[38;5;124m\"\u001B[39m)\n",
      "\u001B[0;31mNameError\u001B[0m: name 'sns' is not defined"
     ]
    }
   ],
   "source": [
    "sns.pairplot(data, hue=\"Pass/Fail\")"
   ]
  },
  {
   "cell_type": "code",
   "execution_count": 10,
   "id": "5dbc7a47-b29e-4d1c-a2d6-811d70e9676a",
   "metadata": {
    "ExecuteTime": {
     "end_time": "2024-04-26T07:58:32.195674Z",
     "start_time": "2024-04-26T07:58:32.084906Z"
    }
   },
   "outputs": [
    {
     "ename": "NameError",
     "evalue": "name 'sns' is not defined",
     "output_type": "error",
     "traceback": [
      "\u001B[0;31m---------------------------------------------------------------------------\u001B[0m",
      "\u001B[0;31mNameError\u001B[0m                                 Traceback (most recent call last)",
      "Cell \u001B[0;32mIn[10], line 1\u001B[0m\n\u001B[0;32m----> 1\u001B[0m \u001B[43msns\u001B[49m\u001B[38;5;241m.\u001B[39mheatmap(data\u001B[38;5;241m.\u001B[39mcorr(), cmap\u001B[38;5;241m=\u001B[39m\u001B[38;5;124m'\u001B[39m\u001B[38;5;124mviridis\u001B[39m\u001B[38;5;124m'\u001B[39m, annot\u001B[38;5;241m=\u001B[39m\u001B[38;5;28;01mTrue\u001B[39;00m)\n",
      "\u001B[0;31mNameError\u001B[0m: name 'sns' is not defined"
     ]
    }
   ],
   "source": [
    "sns.heatmap(data.corr(), cmap='viridis', annot=True)"
   ]
  },
  {
   "cell_type": "code",
   "execution_count": 10,
   "id": "e7080263-8b46-47d2-b3fd-f644d5bbd3b9",
   "metadata": {
    "ExecuteTime": {
     "end_time": "2024-04-26T07:58:32.227164Z",
     "start_time": "2024-04-26T07:58:32.157271Z"
    }
   },
   "outputs": [],
   "source": []
  }
 ],
 "metadata": {
  "kernelspec": {
   "display_name": "Python 3 (ipykernel)",
   "language": "python",
   "name": "python3"
  },
  "language_info": {
   "codemirror_mode": {
    "name": "ipython",
    "version": 3
   },
   "file_extension": ".py",
   "mimetype": "text/x-python",
   "name": "python",
   "nbconvert_exporter": "python",
   "pygments_lexer": "ipython3",
   "version": "3.12.0"
  }
 },
 "nbformat": 4,
 "nbformat_minor": 5
}
