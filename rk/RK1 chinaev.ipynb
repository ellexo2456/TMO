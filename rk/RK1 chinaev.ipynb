{
 "cells": [
  {
   "cell_type": "markdown",
   "metadata": {},
   "source": [
    "# Рубежный контроль 1\n",
    "## Чинаев Алексей РТ5-61Б Вариант 20\n",
    "\n",
    "Для заданного набора данных произведите масштабирование данных (для одного признака) \n",
    "и преобразование категориальных признаков в количественные\n",
    "двумя способами (label encoding, one hot encoding) для одного признака."
   ]
  },
  {
   "cell_type": "code",
   "execution_count": 13,
   "metadata": {
    "ExecuteTime": {
     "end_time": "2024-04-26T08:45:05.893527Z",
     "start_time": "2024-04-26T08:45:05.878183Z"
    }
   },
   "outputs": [
    {
     "name": "stdout",
     "output_type": "stream",
     "text": [
      "Исходные данные:\n",
      "   age  sex  cp  trestbps  chol  fbs  restecg  thalach  exang  oldpeak  slope  \\\n",
      "0   52    1   0       125   212    0        1      168      0      1.0      2   \n",
      "1   53    1   0       140   203    1        0      155      1      3.1      0   \n",
      "2   70    1   0       145   174    0        1      125      1      2.6      0   \n",
      "3   61    1   0       148   203    0        1      161      0      0.0      2   \n",
      "4   62    0   0       138   294    1        1      106      0      1.9      1   \n",
      "\n",
      "   ca  thal  target  \n",
      "0   2     3       0  \n",
      "1   0     3       0  \n",
      "2   0     3       0  \n",
      "3   1     3       0  \n",
      "4   3     2       0  \n"
     ]
    }
   ],
   "source": [
    "import pandas as pd\n",
    "\n",
    "# Загрузка данных\n",
    "data = pd.read_csv(\"./heart.csv\")\n",
    "print(\"Исходные данные:\")\n",
    "print(data.head())\n"
   ]
  },
  {
   "cell_type": "code",
   "execution_count": 14,
   "metadata": {
    "ExecuteTime": {
     "end_time": "2024-04-26T08:45:05.940305Z",
     "start_time": "2024-04-26T08:45:05.899964Z"
    }
   },
   "outputs": [
    {
     "name": "stdout",
     "output_type": "stream",
     "text": [
      "\n",
      "Масштабированные данные:\n",
      "   trestbps  trestbps_scaled\n",
      "0       125        -0.377636\n",
      "1       140         0.479107\n",
      "2       145         0.764688\n",
      "3       148         0.936037\n",
      "4       138         0.364875\n"
     ]
    }
   ],
   "source": [
    "from sklearn.preprocessing import StandardScaler\n",
    "\n",
    "# Создание объекта StandardScaler\n",
    "scaler = StandardScaler()\n",
    "\n",
    "# Масштабирование столбца \"trestbps\"\n",
    "data['trestbps_scaled'] = scaler.fit_transform(data[['trestbps']])\n",
    "print(\"\\nМасштабированные данные:\")\n",
    "print(data[['trestbps', 'trestbps_scaled']].head())\n",
    "\n"
   ]
  },
  {
   "cell_type": "markdown",
   "metadata": {},
   "source": [
    "Создадим искусственный категориальный признак.\n",
    "Можно разделить числовой признак на несколько интервалов и присвоить каждому интервалу категорию. \n",
    "\n",
    "Для примера разобьем возраст на три интервала столбец \"age\":\n",
    "\n",
    "18-35 лет: категория \"молодой\"\n",
    "36-55 лет: категория \"средний возраст\"\n",
    "56 и более лет: категория \"пожилой\""
   ]
  },
  {
   "cell_type": "code",
   "execution_count": 15,
   "metadata": {
    "ExecuteTime": {
     "end_time": "2024-04-26T08:45:05.940915Z",
     "start_time": "2024-04-26T08:45:05.919232Z"
    }
   },
   "outputs": [
    {
     "name": "stdout",
     "output_type": "stream",
     "text": [
      "\n",
      "Результат создания категориального признака:\n",
      "   age        age_group\n",
      "0   52  средний возраст\n",
      "1   53  средний возраст\n",
      "2   70          пожилой\n",
      "3   61          пожилой\n",
      "4   62          пожилой\n"
     ]
    }
   ],
   "source": [
    "import numpy as np\n",
    "\n",
    "# Создание нового числового признака \n",
    "data['age_group'] = pd.cut(data['age'], bins=[0, 35, 55, np.inf], labels=['молодой', 'средний возраст', 'пожилой'])\n",
    "print(\"\\nРезультат создания категориального признака:\")\n",
    "print(data[['age', 'age_group']].head())"
   ]
  },
  {
   "cell_type": "code",
   "execution_count": 16,
   "metadata": {
    "ExecuteTime": {
     "end_time": "2024-04-26T08:45:05.941394Z",
     "start_time": "2024-04-26T08:45:05.927135Z"
    }
   },
   "outputs": [
    {
     "name": "stdout",
     "output_type": "stream",
     "text": [
      "\n",
      "Результат Label Encoding:\n",
      "         age_group  age_group_label_encoded\n",
      "0  средний возраст                        2\n",
      "1  средний возраст                        2\n",
      "2          пожилой                        1\n",
      "3          пожилой                        1\n",
      "4          пожилой                        1\n"
     ]
    }
   ],
   "source": [
    "from sklearn.preprocessing import LabelEncoder\n",
    "\n",
    "# Создание объекта LabelEncoder\n",
    "label_encoder = LabelEncoder()\n",
    "\n",
    "# Преобразование признака \"age_group\" с использованием Label Encoding\n",
    "data['age_group_label_encoded'] = label_encoder.fit_transform(data['age_group'])\n",
    "\n",
    "print(\"\\nРезультат Label Encoding:\")\n",
    "print(data[['age_group', 'age_group_label_encoded']].head())\n"
   ]
  },
  {
   "cell_type": "code",
   "execution_count": 17,
   "metadata": {
    "ExecuteTime": {
     "end_time": "2024-04-26T08:45:05.941818Z",
     "start_time": "2024-04-26T08:45:05.931214Z"
    }
   },
   "outputs": [
    {
     "name": "stdout",
     "output_type": "stream",
     "text": [
      "\n",
      "Результат One-Hot Encoding:\n",
      "   age  sex  cp  trestbps  chol  fbs  restecg  thalach  exang  oldpeak  slope  \\\n",
      "0   52    1   0       125   212    0        1      168      0      1.0      2   \n",
      "1   53    1   0       140   203    1        0      155      1      3.1      0   \n",
      "2   70    1   0       145   174    0        1      125      1      2.6      0   \n",
      "3   61    1   0       148   203    0        1      161      0      0.0      2   \n",
      "4   62    0   0       138   294    1        1      106      0      1.9      1   \n",
      "\n",
      "   ca  thal  target  trestbps_scaled        age_group  \\\n",
      "0   2     3       0        -0.377636  средний возраст   \n",
      "1   0     3       0         0.479107  средний возраст   \n",
      "2   0     3       0         0.764688          пожилой   \n",
      "3   1     3       0         0.936037          пожилой   \n",
      "4   3     2       0         0.364875          пожилой   \n",
      "\n",
      "   age_group_label_encoded  age_group_молодой  age_group_пожилой  \\\n",
      "0                        2                0.0                0.0   \n",
      "1                        2                0.0                0.0   \n",
      "2                        1                0.0                1.0   \n",
      "3                        1                0.0                1.0   \n",
      "4                        1                0.0                1.0   \n",
      "\n",
      "   age_group_средний возраст  \n",
      "0                        1.0  \n",
      "1                        1.0  \n",
      "2                        0.0  \n",
      "3                        0.0  \n",
      "4                        0.0  \n"
     ]
    }
   ],
   "source": [
    "from sklearn.preprocessing import OneHotEncoder\n",
    "\n",
    "# Создание объекта OneHotEncoder\n",
    "one_hot_encoder = OneHotEncoder()\n",
    "\n",
    "# Преобразование признака \"age_group\" с использованием One-Hot Encoding\n",
    "age_group_encoded = one_hot_encoder.fit_transform(data[['age_group']])\n",
    "\n",
    "# Преобразование разреженной матрицы в массив и добавление к исходным данным\n",
    "age_group_encoded_df = pd.DataFrame(age_group_encoded.toarray(), columns=one_hot_encoder.get_feature_names_out(['age_group']))\n",
    "data = pd.concat([data, age_group_encoded_df], axis=1)\n",
    "\n",
    "print(\"\\nРезультат One-Hot Encoding:\")\n",
    "print(data.head())\n"
   ]
  },
  {
   "cell_type": "markdown",
   "metadata": {},
   "source": [
    "Какие методы Вы использовали для решения задачи и почему?\n",
    "1. StandardScaler для масштабирования признака \"trestbps\"\n",
    "\n",
    "2. pd.cut для создания категориального признака \"age_group\":\n",
    "Этот метод был выбран для разделения числового признака \"age\" на категории \"молодой\", \"средний возраст\" и \"пожилой\" на основе заданных интервалов. \n",
    "\n",
    "3. LabelEncoder для преобразования категориального признака \"age_group\" в числовой формат:\n",
    "\n",
    "4. OneHotEncoder для преобразования категориального признака \"age_group\" в бинарные признаки (One-Hot Encoding):\n"
   ]
  },
  {
   "cell_type": "code",
   "execution_count": 18,
   "metadata": {
    "ExecuteTime": {
     "end_time": "2024-04-26T08:45:06.164756Z",
     "start_time": "2024-04-26T08:45:05.939736Z"
    }
   },
   "outputs": [
    {
     "data": {
      "text/plain": "<seaborn.axisgrid.JointGrid at 0x16a607e10>"
     },
     "execution_count": 18,
     "metadata": {},
     "output_type": "execute_result"
    },
    {
     "data": {
      "text/plain": "<Figure size 600x600 with 3 Axes>",
      "image/png": "[encoded data removed]"
     },
     "metadata": {},
     "output_type": "display_data"
    }
   ],
   "source": [
    "import seaborn as sns\n",
    "\n",
    "# Выбор колонок для построения диаграммы рассеяния\n",
    "x = data['age']\n",
    "y = data['thalach']\n",
    "target = data['target']\n",
    "\n",
    "# Определение цветовых меток в зависимости от значения целевой переменной\n",
    "colors = ['red' if t == 1 else 'blue' for t in target]\n",
    "\n",
    "sns.jointplot(x=data['age_group'], y=data['thalach'])"
   ]
  }
 ],
 "metadata": {
  "kernelspec": {
   "display_name": "Python 3",
   "language": "python",
   "name": "python3"
  },
  "language_info": {
   "codemirror_mode": {
    "name": "ipython",
    "version": 3
   },
   "file_extension": ".py",
   "mimetype": "text/x-python",
   "name": "python",
   "nbconvert_exporter": "python",
   "pygments_lexer": "ipython3",
   "version": "3.12.1"
  }
 },
 "nbformat": 4,
 "nbformat_minor": 2
}
