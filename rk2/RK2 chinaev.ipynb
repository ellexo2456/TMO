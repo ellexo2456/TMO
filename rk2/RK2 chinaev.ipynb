{
 "cells": [
  {
   "cell_type": "markdown",
   "metadata": {
    "id": "aZZKcvwKPFVc"
   },
   "source": [
    "## Чинаев Алексей РТ5-61Б, Вариант 19\n"
   ]
  },
  {
   "cell_type": "code",
   "execution_count": 4,
   "metadata": {
    "id": "MGLF_OJ8OnAS",
    "ExecuteTime": {
     "end_time": "2024-06-24T13:44:48.694090Z",
     "start_time": "2024-06-24T13:44:48.682819Z"
    }
   },
   "outputs": [],
   "source": [
    "import pandas as pd\n",
    "from sklearn.model_selection import train_test_split\n",
    "from sklearn.preprocessing import LabelEncoder\n",
    "from sklearn.impute import SimpleImputer\n",
    "from sklearn.tree import DecisionTreeClassifier\n",
    "from sklearn.ensemble import RandomForestClassifier\n",
    "from sklearn.metrics import accuracy_score, precision_score, recall_score, f1_score"
   ]
  },
  {
   "cell_type": "code",
   "execution_count": 5,
   "metadata": {
    "colab": {
     "base_uri": "https://localhost:8080/",
     "height": 325
    },
    "id": "lXx12fC3RMj1",
    "outputId": "41188e29-db94-4813-b4bc-8188e7bec960",
    "ExecuteTime": {
     "end_time": "2024-06-24T13:44:48.727872Z",
     "start_time": "2024-06-24T13:44:48.698440Z"
    }
   },
   "outputs": [
    {
     "data": {
      "text/plain": "              Employee_Name  EmpID  MarriedID  MaritalStatusID  GenderID  \\\n0       Adinolfi, Wilson  K  10026          0                0         1   \n1  Ait Sidi, Karthikeyan     10084          1                1         1   \n2         Akinkuolie, Sarah  10196          1                1         0   \n3              Alagbe,Trina  10088          1                1         0   \n4          Anderson, Carol   10069          0                2         0   \n\n   EmpStatusID  DeptID  PerfScoreID  FromDiversityJobFairID  Salary  ...  \\\n0            1       5            4                       0   62506  ...   \n1            5       3            3                       0  104437  ...   \n2            5       5            3                       0   64955  ...   \n3            1       5            3                       0   64991  ...   \n4            5       5            3                       0   50825  ...   \n\n      ManagerName  ManagerID RecruitmentSource PerformanceScore  \\\n0  Michael Albert       22.0          LinkedIn          Exceeds   \n1      Simon Roup        4.0            Indeed      Fully Meets   \n2  Kissy Sullivan       20.0          LinkedIn      Fully Meets   \n3    Elijiah Gray       16.0            Indeed      Fully Meets   \n4  Webster Butler       39.0     Google Search      Fully Meets   \n\n   EngagementSurvey EmpSatisfaction SpecialProjectsCount  \\\n0              4.60               5                    0   \n1              4.96               3                    6   \n2              3.02               3                    0   \n3              4.84               5                    0   \n4              5.00               4                    0   \n\n  LastPerformanceReview_Date DaysLateLast30 Absences  \n0                  1/17/2019              0        1  \n1                  2/24/2016              0       17  \n2                  5/15/2012              0        3  \n3                   1/3/2019              0       15  \n4                   2/1/2016              0        2  \n\n[5 rows x 36 columns]",
      "text/html": "<div>\n<style scoped>\n    .dataframe tbody tr th:only-of-type {\n        vertical-align: middle;\n    }\n\n    .dataframe tbody tr th {\n        vertical-align: top;\n    }\n\n    .dataframe thead th {\n        text-align: right;\n    }\n</style>\n<table border=\"1\" class=\"dataframe\">\n  <thead>\n    <tr style=\"text-align: right;\">\n      <th></th>\n      <th>Employee_Name</th>\n      <th>EmpID</th>\n      <th>MarriedID</th>\n      <th>MaritalStatusID</th>\n      <th>GenderID</th>\n      <th>EmpStatusID</th>\n      <th>DeptID</th>\n      <th>PerfScoreID</th>\n      <th>FromDiversityJobFairID</th>\n      <th>Salary</th>\n      <th>...</th>\n      <th>ManagerName</th>\n      <th>ManagerID</th>\n      <th>RecruitmentSource</th>\n      <th>PerformanceScore</th>\n      <th>EngagementSurvey</th>\n      <th>EmpSatisfaction</th>\n      <th>SpecialProjectsCount</th>\n      <th>LastPerformanceReview_Date</th>\n      <th>DaysLateLast30</th>\n      <th>Absences</th>\n    </tr>\n  </thead>\n  <tbody>\n    <tr>\n      <th>0</th>\n      <td>Adinolfi, Wilson  K</td>\n      <td>10026</td>\n      <td>0</td>\n      <td>0</td>\n      <td>1</td>\n      <td>1</td>\n      <td>5</td>\n      <td>4</td>\n      <td>0</td>\n      <td>62506</td>\n      <td>...</td>\n      <td>Michael Albert</td>\n      <td>22.0</td>\n      <td>LinkedIn</td>\n      <td>Exceeds</td>\n      <td>4.60</td>\n      <td>5</td>\n      <td>0</td>\n      <td>1/17/2019</td>\n      <td>0</td>\n      <td>1</td>\n    </tr>\n    <tr>\n      <th>1</th>\n      <td>Ait Sidi, Karthikeyan</td>\n      <td>10084</td>\n      <td>1</td>\n      <td>1</td>\n      <td>1</td>\n      <td>5</td>\n      <td>3</td>\n      <td>3</td>\n      <td>0</td>\n      <td>104437</td>\n      <td>...</td>\n      <td>Simon Roup</td>\n      <td>4.0</td>\n      <td>Indeed</td>\n      <td>Fully Meets</td>\n      <td>4.96</td>\n      <td>3</td>\n      <td>6</td>\n      <td>2/24/2016</td>\n      <td>0</td>\n      <td>17</td>\n    </tr>\n    <tr>\n      <th>2</th>\n      <td>Akinkuolie, Sarah</td>\n      <td>10196</td>\n      <td>1</td>\n      <td>1</td>\n      <td>0</td>\n      <td>5</td>\n      <td>5</td>\n      <td>3</td>\n      <td>0</td>\n      <td>64955</td>\n      <td>...</td>\n      <td>Kissy Sullivan</td>\n      <td>20.0</td>\n      <td>LinkedIn</td>\n      <td>Fully Meets</td>\n      <td>3.02</td>\n      <td>3</td>\n      <td>0</td>\n      <td>5/15/2012</td>\n      <td>0</td>\n      <td>3</td>\n    </tr>\n    <tr>\n      <th>3</th>\n      <td>Alagbe,Trina</td>\n      <td>10088</td>\n      <td>1</td>\n      <td>1</td>\n      <td>0</td>\n      <td>1</td>\n      <td>5</td>\n      <td>3</td>\n      <td>0</td>\n      <td>64991</td>\n      <td>...</td>\n      <td>Elijiah Gray</td>\n      <td>16.0</td>\n      <td>Indeed</td>\n      <td>Fully Meets</td>\n      <td>4.84</td>\n      <td>5</td>\n      <td>0</td>\n      <td>1/3/2019</td>\n      <td>0</td>\n      <td>15</td>\n    </tr>\n    <tr>\n      <th>4</th>\n      <td>Anderson, Carol</td>\n      <td>10069</td>\n      <td>0</td>\n      <td>2</td>\n      <td>0</td>\n      <td>5</td>\n      <td>5</td>\n      <td>3</td>\n      <td>0</td>\n      <td>50825</td>\n      <td>...</td>\n      <td>Webster Butler</td>\n      <td>39.0</td>\n      <td>Google Search</td>\n      <td>Fully Meets</td>\n      <td>5.00</td>\n      <td>4</td>\n      <td>0</td>\n      <td>2/1/2016</td>\n      <td>0</td>\n      <td>2</td>\n    </tr>\n  </tbody>\n</table>\n<p>5 rows × 36 columns</p>\n</div>"
     },
     "execution_count": 5,
     "metadata": {},
     "output_type": "execute_result"
    }
   ],
   "source": [
    "data = pd.read_csv('HRDataset_v14.csv')\n",
    "data.head()"
   ]
  },
  {
   "cell_type": "markdown",
   "source": [
    "Решаем задачу классификации статуса сотрудника"
   ],
   "metadata": {
    "collapsed": false
   }
  },
  {
   "cell_type": "code",
   "execution_count": 6,
   "metadata": {
    "id": "lzGEu1eoTnnv",
    "ExecuteTime": {
     "end_time": "2024-06-24T13:44:48.728938Z",
     "start_time": "2024-06-24T13:44:48.717580Z"
    }
   },
   "outputs": [],
   "source": [
    "# Удалим ненужные столбцы\n",
    "columns_to_drop = [\"Employee_Name\", \"EmpID\", \"DOB\", \"Zip\", \"Termd\",\n",
    "                   \"DateofTermination\", \"TermReason\", \"ManagerName\",\n",
    "                   \"ManagerID\", \"LastPerformanceReview_Date\", \"DaysLateLast30\"]\n",
    "\n",
    "data = data.drop(columns=columns_to_drop)"
   ]
  },
  {
   "cell_type": "code",
   "execution_count": 7,
   "metadata": {
    "id": "ZEo2X1G-UFcz",
    "ExecuteTime": {
     "end_time": "2024-06-24T13:44:48.794502Z",
     "start_time": "2024-06-24T13:44:48.722835Z"
    }
   },
   "outputs": [],
   "source": [
    "X = data.drop(columns=[\"EmploymentStatus\"])  # признаки\n",
    "y = data[\"EmploymentStatus\"]  # целевая переменная\n",
    "\n",
    "# Кодируем целевую переменную\n",
    "label_encoder = LabelEncoder()\n",
    "y = label_encoder.fit_transform(y)\n",
    "\n",
    "# Кодируем категориальные признаки\n",
    "X_encoded = pd.get_dummies(X)\n",
    "\n",
    "# Заполняем пропущенные значения\n",
    "imputer = SimpleImputer(strategy=\"most_frequent\")\n",
    "X_imputed = pd.DataFrame(imputer.fit_transform(X_encoded), columns=X_encoded.columns)\n",
    "\n",
    "X_train, X_test, y_train, y_test = train_test_split(X_imputed, y, test_size=0.2, random_state=42)"
   ]
  },
  {
   "cell_type": "code",
   "execution_count": 8,
   "metadata": {
    "id": "FDs-NOVuYR6q",
    "ExecuteTime": {
     "end_time": "2024-06-24T13:44:48.835210Z",
     "start_time": "2024-06-24T13:44:48.765987Z"
    }
   },
   "outputs": [],
   "source": [
    "# Модель дерева решений\n",
    "decision_tree = DecisionTreeClassifier(random_state=42)\n",
    "decision_tree.fit(X_train, y_train)\n",
    "\n",
    "# Модель случайного леса\n",
    "random_forest = RandomForestClassifier(random_state=42)\n",
    "random_forest.fit(X_train, y_train)\n",
    "\n",
    "# Предсказание на тестовой выборке\n",
    "y_pred_dt = decision_tree.predict(X_test)\n",
    "y_pred_rf = random_forest.predict(X_test)"
   ]
  },
  {
   "cell_type": "code",
   "execution_count": 9,
   "metadata": {
    "colab": {
     "base_uri": "https://localhost:8080/"
    },
    "id": "g_MV9vI3UnQ0",
    "outputId": "db37353f-78c5-4ddb-cb57-06932e032a66",
    "ExecuteTime": {
     "end_time": "2024-06-24T13:44:48.847097Z",
     "start_time": "2024-06-24T13:44:48.837059Z"
    }
   },
   "outputs": [
    {
     "name": "stdout",
     "output_type": "stream",
     "text": [
      "Модель дерева решений:\n",
      "Accuracy: 1.0\n",
      "Precision: 1.0\n",
      "Recall: 1.0\n",
      "F1-score: 1.0\n",
      "\n",
      "Модель случайного леса:\n",
      "Accuracy: 0.9523809523809523\n",
      "Precision: 0.9556277056277056\n",
      "Recall: 0.9523809523809523\n",
      "F1-score: 0.9389355742296919\n"
     ]
    }
   ],
   "source": [
    "# Оценка качества модели дерева решений\n",
    "print(\"Модель дерева решений:\")\n",
    "print(\"Accuracy:\", accuracy_score(y_test, y_pred_dt))\n",
    "print(\"Precision:\", precision_score(y_test, y_pred_dt, average='weighted'))\n",
    "print(\"Recall:\", recall_score(y_test, y_pred_dt, average='weighted'))\n",
    "print(\"F1-score:\", f1_score(y_test, y_pred_dt, average='weighted'))\n",
    "\n",
    "# Оценка качества модели случайного леса\n",
    "print(\"\\nМодель случайного леса:\")\n",
    "print(\"Accuracy:\", accuracy_score(y_test, y_pred_rf))\n",
    "print(\"Precision:\", precision_score(y_test, y_pred_rf, average='weighted'))\n",
    "print(\"Recall:\", recall_score(y_test, y_pred_rf, average='weighted'))\n",
    "print(\"F1-score:\", f1_score(y_test, y_pred_rf, average='weighted'))"
   ]
  },
  {
   "cell_type": "markdown",
   "metadata": {
    "id": "lcrrdqhFZIx-"
   },
   "source": [
    "Исходя из получннных результатов можно сделать вывод, что модель случайного леса более устойчива и обобщает лучше на новые данные, в то время как модель дерева решений, вероятно, переобучилась к обучающим данным."
   ]
  }
 ],
 "metadata": {
  "colab": {
   "provenance": []
  },
  "kernelspec": {
   "name": "python3",
   "language": "python",
   "display_name": "Python 3 (ipykernel)"
  },
  "language_info": {
   "name": "python"
  }
 },
 "nbformat": 4,
 "nbformat_minor": 0
}
