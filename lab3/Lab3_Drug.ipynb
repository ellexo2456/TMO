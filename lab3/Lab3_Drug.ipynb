{
 "cells": [
  {
   "cell_type": "code",
   "execution_count": 3,
   "id": "257c2de4-ab84-401b-95c4-e47b402a6a16",
   "metadata": {
    "ExecuteTime": {
     "end_time": "2024-06-05T13:36:43.437395Z",
     "start_time": "2024-06-05T13:36:42.703024Z"
    }
   },
   "outputs": [],
   "source": [
    "\n",
    "import numpy as np\n",
    "import pandas as pd\n",
    "import seaborn as sns\n",
    "import matplotlib.pyplot as plt\n",
    "%matplotlib inline\n",
    "sns.set(style=\"ticks\")"
   ]
  },
  {
   "cell_type": "code",
   "execution_count": 4,
   "id": "dab50e19-fb99-4a6a-9949-90f6d742ea21",
   "metadata": {
    "ExecuteTime": {
     "end_time": "2024-06-05T13:36:43.709054Z",
     "start_time": "2024-06-05T13:36:43.455756Z"
    }
   },
   "outputs": [],
   "source": [
    "data = pd.read_csv('drug200.csv')"
   ]
  },
  {
   "cell_type": "code",
   "execution_count": 5,
   "id": "bacc340e-8caf-4dfc-8356-776018cd1f28",
   "metadata": {
    "ExecuteTime": {
     "end_time": "2024-06-05T13:36:43.848925Z",
     "start_time": "2024-06-05T13:36:43.728093Z"
    }
   },
   "outputs": [
    {
     "data": {
      "text/plain": "Age              int64\nSex             object\nBP              object\nCholesterol     object\nNa_to_K        float64\nDrug            object\ndtype: object"
     },
     "execution_count": 5,
     "metadata": {},
     "output_type": "execute_result"
    }
   ],
   "source": [
    "data.dtypes"
   ]
  },
  {
   "cell_type": "code",
   "execution_count": 6,
   "id": "86f41b70-0d9e-4537-a6b7-562162b35b4e",
   "metadata": {
    "ExecuteTime": {
     "end_time": "2024-06-05T13:36:43.862885Z",
     "start_time": "2024-06-05T13:36:43.764504Z"
    }
   },
   "outputs": [
    {
     "data": {
      "text/plain": "Age            0\nSex            0\nBP             0\nCholesterol    0\nNa_to_K        0\nDrug           0\ndtype: int64"
     },
     "execution_count": 6,
     "metadata": {},
     "output_type": "execute_result"
    }
   ],
   "source": [
    "data.isnull().sum()"
   ]
  },
  {
   "cell_type": "code",
   "execution_count": 7,
   "id": "e499931a-a97b-4426-8e1f-fcbee234bbbb",
   "metadata": {
    "ExecuteTime": {
     "end_time": "2024-06-05T13:36:44.068142Z",
     "start_time": "2024-06-05T13:36:43.874852Z"
    }
   },
   "outputs": [
    {
     "data": {
      "text/plain": "   Age Sex      BP Cholesterol  Na_to_K   Drug\n0   23   F    HIGH        HIGH   25.355  DrugY\n1   47   M     LOW        HIGH   13.093  drugC\n2   47   M     LOW        HIGH   10.114  drugC\n3   28   F  NORMAL        HIGH    7.798  drugX\n4   61   F     LOW        HIGH   18.043  DrugY",
      "text/html": "<div>\n<style scoped>\n    .dataframe tbody tr th:only-of-type {\n        vertical-align: middle;\n    }\n\n    .dataframe tbody tr th {\n        vertical-align: top;\n    }\n\n    .dataframe thead th {\n        text-align: right;\n    }\n</style>\n<table border=\"1\" class=\"dataframe\">\n  <thead>\n    <tr style=\"text-align: right;\">\n      <th></th>\n      <th>Age</th>\n      <th>Sex</th>\n      <th>BP</th>\n      <th>Cholesterol</th>\n      <th>Na_to_K</th>\n      <th>Drug</th>\n    </tr>\n  </thead>\n  <tbody>\n    <tr>\n      <th>0</th>\n      <td>23</td>\n      <td>F</td>\n      <td>HIGH</td>\n      <td>HIGH</td>\n      <td>25.355</td>\n      <td>DrugY</td>\n    </tr>\n    <tr>\n      <th>1</th>\n      <td>47</td>\n      <td>M</td>\n      <td>LOW</td>\n      <td>HIGH</td>\n      <td>13.093</td>\n      <td>drugC</td>\n    </tr>\n    <tr>\n      <th>2</th>\n      <td>47</td>\n      <td>M</td>\n      <td>LOW</td>\n      <td>HIGH</td>\n      <td>10.114</td>\n      <td>drugC</td>\n    </tr>\n    <tr>\n      <th>3</th>\n      <td>28</td>\n      <td>F</td>\n      <td>NORMAL</td>\n      <td>HIGH</td>\n      <td>7.798</td>\n      <td>drugX</td>\n    </tr>\n    <tr>\n      <th>4</th>\n      <td>61</td>\n      <td>F</td>\n      <td>LOW</td>\n      <td>HIGH</td>\n      <td>18.043</td>\n      <td>DrugY</td>\n    </tr>\n  </tbody>\n</table>\n</div>"
     },
     "execution_count": 7,
     "metadata": {},
     "output_type": "execute_result"
    }
   ],
   "source": [
    "\n",
    "data.head()"
   ]
  },
  {
   "cell_type": "markdown",
   "id": "4330e269-a0cf-412a-87e2-8f8f4bead591",
   "metadata": {},
   "source": [
    "# Кодируем категориальные признаки"
   ]
  },
  {
   "cell_type": "code",
   "execution_count": 8,
   "id": "0b1e15bb-8149-41a3-beb2-4e3870dfb0d1",
   "metadata": {
    "ExecuteTime": {
     "end_time": "2024-06-05T13:36:44.203366Z",
     "start_time": "2024-06-05T13:36:44.062948Z"
    }
   },
   "outputs": [
    {
     "name": "stdout",
     "output_type": "stream",
     "text": [
      "Уникальные значения для BP: ['HIGH' 'LOW' 'NORMAL']\n",
      "Уникальные значения для Cholesterol: ['HIGH' 'NORMAL']\n",
      "Уникальные значения для Drug: ['DrugY' 'drugC' 'drugX' 'drugA' 'drugB']\n"
     ]
    }
   ],
   "source": [
    "unique_values_BP = data['BP'].unique()\n",
    "unique_values_Cholesterol = data['Cholesterol'].unique()\n",
    "unique_values_Drug = data['Drug'].unique()\n",
    "\n",
    "print(\"Уникальные значения для BP:\", unique_values_BP)\n",
    "print(\"Уникальные значения для Cholesterol:\", unique_values_Cholesterol)\n",
    "print(\"Уникальные значения для Drug:\", unique_values_Drug)"
   ]
  },
  {
   "cell_type": "code",
   "execution_count": 9,
   "id": "9ce35c53-b404-4e27-91f5-aadd77c44a00",
   "metadata": {
    "ExecuteTime": {
     "end_time": "2024-06-05T13:36:44.343122Z",
     "start_time": "2024-06-05T13:36:44.188374Z"
    }
   },
   "outputs": [],
   "source": [
    "BP_mapping = {'HIGH': 0, 'LOW': 1, 'NORMAL': 2}\n",
    "Cholesterol_mapping = {'HIGH': 0, 'NORMAL': 1}\n",
    "Drug_mapping = {'DrugY': 0, 'drugC': 1, 'drugX': 2, 'drugA': 3, 'drugB': 4}\n",
    "Sex_mapping = {'F': 0, 'M': 1}\n",
    "\n",
    "data['BP'] = data['BP'].map(BP_mapping)\n",
    "data['Cholesterol'] = data['Cholesterol'].map(Cholesterol_mapping)\n",
    "data['Drug'] = data['Drug'].map(Drug_mapping)\n",
    "data['Sex'] = data['Sex'].map(Sex_mapping)"
   ]
  },
  {
   "cell_type": "code",
   "execution_count": 10,
   "id": "a2204f30-878b-455c-bade-ef0dd7ce0b80",
   "metadata": {
    "ExecuteTime": {
     "end_time": "2024-06-05T13:36:44.449591Z",
     "start_time": "2024-06-05T13:36:44.246898Z"
    }
   },
   "outputs": [
    {
     "data": {
      "text/plain": "   Age  Sex  BP  Cholesterol  Na_to_K  Drug\n0   23    0   0            0   25.355     0\n1   47    1   1            0   13.093     1\n2   47    1   1            0   10.114     1\n3   28    0   2            0    7.798     2\n4   61    0   1            0   18.043     0",
      "text/html": "<div>\n<style scoped>\n    .dataframe tbody tr th:only-of-type {\n        vertical-align: middle;\n    }\n\n    .dataframe tbody tr th {\n        vertical-align: top;\n    }\n\n    .dataframe thead th {\n        text-align: right;\n    }\n</style>\n<table border=\"1\" class=\"dataframe\">\n  <thead>\n    <tr style=\"text-align: right;\">\n      <th></th>\n      <th>Age</th>\n      <th>Sex</th>\n      <th>BP</th>\n      <th>Cholesterol</th>\n      <th>Na_to_K</th>\n      <th>Drug</th>\n    </tr>\n  </thead>\n  <tbody>\n    <tr>\n      <th>0</th>\n      <td>23</td>\n      <td>0</td>\n      <td>0</td>\n      <td>0</td>\n      <td>25.355</td>\n      <td>0</td>\n    </tr>\n    <tr>\n      <th>1</th>\n      <td>47</td>\n      <td>1</td>\n      <td>1</td>\n      <td>0</td>\n      <td>13.093</td>\n      <td>1</td>\n    </tr>\n    <tr>\n      <th>2</th>\n      <td>47</td>\n      <td>1</td>\n      <td>1</td>\n      <td>0</td>\n      <td>10.114</td>\n      <td>1</td>\n    </tr>\n    <tr>\n      <th>3</th>\n      <td>28</td>\n      <td>0</td>\n      <td>2</td>\n      <td>0</td>\n      <td>7.798</td>\n      <td>2</td>\n    </tr>\n    <tr>\n      <th>4</th>\n      <td>61</td>\n      <td>0</td>\n      <td>1</td>\n      <td>0</td>\n      <td>18.043</td>\n      <td>0</td>\n    </tr>\n  </tbody>\n</table>\n</div>"
     },
     "execution_count": 10,
     "metadata": {},
     "output_type": "execute_result"
    }
   ],
   "source": [
    "data.head()"
   ]
  },
  {
   "cell_type": "code",
   "execution_count": 11,
   "id": "e1cbd978-0efa-4d30-a2bf-a7aa00723dd9",
   "metadata": {
    "ExecuteTime": {
     "end_time": "2024-06-05T13:36:45.006400Z",
     "start_time": "2024-06-05T13:36:44.439019Z"
    }
   },
   "outputs": [],
   "source": [
    "from sklearn.model_selection import train_test_split"
   ]
  },
  {
   "cell_type": "code",
   "execution_count": 12,
   "id": "80cd14a6-6b4f-4ebd-ae6a-38fb380ddf73",
   "metadata": {
    "ExecuteTime": {
     "end_time": "2024-06-05T13:36:45.030874Z",
     "start_time": "2024-06-05T13:36:44.984501Z"
    }
   },
   "outputs": [],
   "source": [
    "X = data.drop(\"Drug\", axis=1)\n",
    "y = data[\"Drug\"]"
   ]
  },
  {
   "cell_type": "code",
   "execution_count": 13,
   "id": "28f8bb86-15fb-4f3e-95ca-f06b4dc799f7",
   "metadata": {
    "ExecuteTime": {
     "end_time": "2024-06-05T13:36:45.045121Z",
     "start_time": "2024-06-05T13:36:44.993652Z"
    }
   },
   "outputs": [
    {
     "name": "stdout",
     "output_type": "stream",
     "text": [
      "   Age  Sex  BP  Cholesterol  Na_to_K\n",
      "0   23    0   0            0   25.355\n",
      "1   47    1   1            0   13.093\n",
      "2   47    1   1            0   10.114\n",
      "3   28    0   2            0    7.798\n",
      "4   61    0   1            0   18.043 \n",
      "\n",
      "0    0\n",
      "1    1\n",
      "2    1\n",
      "3    2\n",
      "4    0\n",
      "Name: Drug, dtype: int64\n"
     ]
    }
   ],
   "source": [
    "print(X.head(), \"\\n\")\n",
    "print(y.head())"
   ]
  },
  {
   "cell_type": "markdown",
   "id": "f80d0639-ff59-4c53-8806-8e14091fb172",
   "metadata": {},
   "source": [
    "# Разделение выборки на обучающую и тестовую"
   ]
  },
  {
   "cell_type": "code",
   "execution_count": 14,
   "id": "5b9d2462-0972-48a5-8145-04afddf23aa6",
   "metadata": {
    "ExecuteTime": {
     "end_time": "2024-06-05T13:36:45.097273Z",
     "start_time": "2024-06-05T13:36:45.007217Z"
    }
   },
   "outputs": [],
   "source": [
    "X_train, X_test, y_train, y_test = train_test_split(X, y, random_state=3)"
   ]
  },
  {
   "cell_type": "code",
   "execution_count": 15,
   "id": "85b40860-e976-43e7-ba02-4b864f99a211",
   "metadata": {
    "ExecuteTime": {
     "end_time": "2024-06-05T13:36:45.099712Z",
     "start_time": "2024-06-05T13:36:45.013226Z"
    }
   },
   "outputs": [
    {
     "data": {
      "text/plain": "((150, 5), (150,))"
     },
     "execution_count": 15,
     "metadata": {},
     "output_type": "execute_result"
    }
   ],
   "source": [
    "X_train.shape, y_train.shape,"
   ]
  },
  {
   "cell_type": "code",
   "execution_count": 16,
   "id": "5ee26f1d-1e4a-47e2-8331-435d55352220",
   "metadata": {
    "ExecuteTime": {
     "end_time": "2024-06-05T13:36:45.115130Z",
     "start_time": "2024-06-05T13:36:45.027600Z"
    }
   },
   "outputs": [
    {
     "data": {
      "text/plain": "((50, 5), (50,))"
     },
     "execution_count": 16,
     "metadata": {},
     "output_type": "execute_result"
    }
   ],
   "source": [
    "X_test.shape, y_test.shape"
   ]
  },
  {
   "cell_type": "code",
   "execution_count": 17,
   "id": "f28e0baa-a543-4788-85df-1825d49810e1",
   "metadata": {
    "ExecuteTime": {
     "end_time": "2024-06-05T13:36:45.118067Z",
     "start_time": "2024-06-05T13:36:45.039298Z"
    }
   },
   "outputs": [],
   "source": [
    "from typing import Dict, Tuple"
   ]
  },
  {
   "cell_type": "code",
   "execution_count": 18,
   "id": "091dca3e-3ada-4783-b756-b75b08bc69cd",
   "metadata": {
    "ExecuteTime": {
     "end_time": "2024-06-05T13:36:45.138460Z",
     "start_time": "2024-06-05T13:36:45.046612Z"
    }
   },
   "outputs": [],
   "source": [
    "def type_proportions(array: np.ndarray) -> Dict[int, Tuple[int, float]]:\n",
    "    labels, counts = np.unique(array, return_counts=True)\n",
    "    counts_perc = counts/array.size\n",
    "    res = dict()\n",
    "    for label, count2 in zip(labels, zip(counts, counts_perc)):\n",
    "        res[label] = count2\n",
    "    return res\n",
    "\n",
    "def print_type_proportions(array: np.ndarray):\n",
    "    proportions = type_proportions(array)\n",
    "    if len(proportions)>0:\n",
    "        print('Тип \\t Количество \\t Процент встречаемости')\n",
    "    for i in proportions:\n",
    "        val, val_perc = proportions[i]\n",
    "        val_perc_100 = round(val_perc * 100, 2)\n",
    "        print('{} \\t {} \\t \\t {}%'.format(i, val, val_perc_100))"
   ]
  },
  {
   "cell_type": "code",
   "execution_count": 19,
   "id": "17677bfa-702b-4e59-9a5d-ba74b215a815",
   "metadata": {
    "ExecuteTime": {
     "end_time": "2024-06-05T13:36:45.290842Z",
     "start_time": "2024-06-05T13:36:45.121306Z"
    }
   },
   "outputs": [
    {
     "name": "stdout",
     "output_type": "stream",
     "text": [
      "Тип \t Количество \t Процент встречаемости\n",
      "0 \t 91 \t \t 45.5%\n",
      "1 \t 16 \t \t 8.0%\n",
      "2 \t 54 \t \t 27.0%\n",
      "3 \t 23 \t \t 11.5%\n",
      "4 \t 16 \t \t 8.0%\n"
     ]
    }
   ],
   "source": [
    "print_type_proportions(data.Drug)"
   ]
  },
  {
   "cell_type": "code",
   "execution_count": 20,
   "id": "8ddeba58-6668-4a0e-87ef-3a729a247075",
   "metadata": {
    "ExecuteTime": {
     "end_time": "2024-06-05T13:36:45.311459Z",
     "start_time": "2024-06-05T13:36:45.280367Z"
    }
   },
   "outputs": [
    {
     "name": "stdout",
     "output_type": "stream",
     "text": [
      "Тип \t Количество \t Процент встречаемости\n",
      "0 \t 73 \t \t 48.67%\n",
      "1 \t 11 \t \t 7.33%\n",
      "2 \t 37 \t \t 24.67%\n",
      "3 \t 17 \t \t 11.33%\n",
      "4 \t 12 \t \t 8.0%\n"
     ]
    }
   ],
   "source": [
    "print_type_proportions(y_train)"
   ]
  },
  {
   "cell_type": "code",
   "execution_count": 21,
   "id": "5a9aed0c-a3fb-4130-bd4d-0c774cd4dfc9",
   "metadata": {
    "ExecuteTime": {
     "end_time": "2024-06-05T13:36:45.485060Z",
     "start_time": "2024-06-05T13:36:45.312903Z"
    }
   },
   "outputs": [
    {
     "name": "stdout",
     "output_type": "stream",
     "text": [
      "Тип \t Количество \t Процент встречаемости\n",
      "0 \t 18 \t \t 36.0%\n",
      "1 \t 5 \t \t 10.0%\n",
      "2 \t 17 \t \t 34.0%\n",
      "3 \t 6 \t \t 12.0%\n",
      "4 \t 4 \t \t 8.0%\n"
     ]
    }
   ],
   "source": [
    "print_type_proportions(y_test)"
   ]
  },
  {
   "cell_type": "markdown",
   "id": "2fb9d2c8-5ea1-4f2d-a0f3-de8f3df38e90",
   "metadata": {},
   "source": [
    "# Построение модели ближайших соседей для произвольного гиперпараметра"
   ]
  },
  {
   "cell_type": "code",
   "execution_count": 22,
   "id": "bbf9d601-40e9-4728-8844-6f8ab6ba2026",
   "metadata": {
    "ExecuteTime": {
     "end_time": "2024-06-05T13:36:45.851317Z",
     "start_time": "2024-06-05T13:36:45.462222Z"
    }
   },
   "outputs": [],
   "source": [
    "from sklearn.neighbors import KNeighborsClassifier"
   ]
  },
  {
   "cell_type": "code",
   "execution_count": 23,
   "id": "7fec870e-7697-4601-a552-fa28fe3fd4fd",
   "metadata": {
    "ExecuteTime": {
     "end_time": "2024-06-05T13:36:45.865100Z",
     "start_time": "2024-06-05T13:36:45.815005Z"
    }
   },
   "outputs": [
    {
     "data": {
      "text/plain": "(50,\n array([0, 4, 4, 2, 0, 2, 0, 2, 0, 2, 0, 2, 0, 0, 2, 0, 2, 2, 4, 2, 1, 0,\n        0, 0, 2, 2, 0, 0, 2, 1, 2, 4, 2, 2, 2, 2, 0, 2, 2, 2, 2, 0, 2, 0,\n        2, 0, 0, 0, 2, 0]))"
     },
     "execution_count": 23,
     "metadata": {},
     "output_type": "execute_result"
    }
   ],
   "source": [
    "clf_i = KNeighborsClassifier(n_neighbors=20)\n",
    "clf_i.fit(X_train, y_train)\n",
    "target_i = clf_i.predict(X_test)\n",
    "len(target_i), target_i"
   ]
  },
  {
   "cell_type": "markdown",
   "id": "cedfb94a-b5c2-4ca6-91a1-7a86b5a0039a",
   "metadata": {},
   "source": [
    "# Кросс-валидация и подбор гиперпараметра K через GridSearch и RandomizedSearch "
   ]
  },
  {
   "cell_type": "code",
   "execution_count": 24,
   "id": "9458e463-8759-4f70-9ad3-3f02954b726c",
   "metadata": {
    "ExecuteTime": {
     "end_time": "2024-06-05T13:36:45.882423Z",
     "start_time": "2024-06-05T13:36:45.843401Z"
    }
   },
   "outputs": [],
   "source": [
    "from sklearn.model_selection import cross_val_score, cross_validate"
   ]
  },
  {
   "cell_type": "code",
   "execution_count": 25,
   "id": "27074b26-d8dd-4e69-ad41-51a60b9da162",
   "metadata": {
    "ExecuteTime": {
     "end_time": "2024-06-05T13:36:45.981716Z",
     "start_time": "2024-06-05T13:36:45.858281Z"
    }
   },
   "outputs": [
    {
     "data": {
      "text/plain": "array([0.74626866, 0.73134328, 0.63636364])"
     },
     "execution_count": 25,
     "metadata": {},
     "output_type": "execute_result"
    }
   ],
   "source": [
    "scores = cross_val_score(KNeighborsClassifier(n_neighbors=2), \n",
    "                         data, data.Drug, cv=3)\n",
    "scores"
   ]
  },
  {
   "cell_type": "code",
   "execution_count": 26,
   "id": "2c39281d-596d-4426-8f9c-91342ee83f3e",
   "metadata": {
    "ExecuteTime": {
     "end_time": "2024-06-05T13:36:46.001418Z",
     "start_time": "2024-06-05T13:36:45.876863Z"
    }
   },
   "outputs": [
    {
     "data": {
      "text/plain": "{'fit_time': array([0.00141287, 0.00110793, 0.00106978]),\n 'score_time': array([0.00409603, 0.01121879, 0.00249219]),\n 'test_score': array([0.7478186 , 0.73262159, 0.63757958]),\n 'train_score': array([0.85450061, 0.90817923, 0.94818296])}"
     },
     "execution_count": 26,
     "metadata": {},
     "output_type": "execute_result"
    }
   ],
   "source": [
    "scoring = {'precision': 'precision_weighted', \n",
    "           'recall': 'recall_weighted',\n",
    "           'f1': 'f1_weighted'}\n",
    "scores = cross_validate(KNeighborsClassifier(n_neighbors=2), \n",
    "                        data, data.Drug, scoring='f1_weighted', \n",
    "                        cv=3, return_train_score=True)\n",
    "scores"
   ]
  },
  {
   "cell_type": "markdown",
   "id": "4c739444-e73b-4d92-a647-9416dceaebca",
   "metadata": {},
   "source": [
    "## Стратегия K-Fold"
   ]
  },
  {
   "cell_type": "code",
   "execution_count": 27,
   "id": "94820923-7a4c-4863-a251-446d9eb8b0ec",
   "metadata": {
    "ExecuteTime": {
     "end_time": "2024-06-05T13:36:46.001686Z",
     "start_time": "2024-06-05T13:36:45.923590Z"
    }
   },
   "outputs": [],
   "source": [
    "from sklearn.model_selection import KFold"
   ]
  },
  {
   "cell_type": "code",
   "execution_count": 28,
   "id": "8a74fdf9-3861-4164-8ba0-cfd46953df5e",
   "metadata": {
    "ExecuteTime": {
     "end_time": "2024-06-05T13:36:46.059020Z",
     "start_time": "2024-06-05T13:36:45.935092Z"
    }
   },
   "outputs": [
    {
     "data": {
      "text/plain": "{'fit_time': array([0.00291991, 0.00172377, 0.00080013, 0.00070095, 0.00124002]),\n 'score_time': array([0.00552821, 0.00340724, 0.00183606, 0.00212789, 0.0021081 ]),\n 'test_score': array([0.7986014 , 0.70576299, 0.81073232, 0.71100882, 0.5943956 ])}"
     },
     "execution_count": 28,
     "metadata": {},
     "output_type": "execute_result"
    }
   ],
   "source": [
    "kf = KFold(n_splits=5)\n",
    "scores = cross_validate(KNeighborsClassifier(n_neighbors=2), \n",
    "                         data, data.Drug, scoring='f1_weighted', \n",
    "                         cv=kf)\n",
    "scores"
   ]
  },
  {
   "cell_type": "markdown",
   "id": "bf3d4ea7-2223-4a24-aaac-7190b0734dd3",
   "metadata": {},
   "source": [
    "## Стратегия Repeated K-Fold"
   ]
  },
  {
   "cell_type": "code",
   "execution_count": 29,
   "id": "eabbb70c-1156-4c33-aac4-61a9ccd1bddf",
   "metadata": {
    "ExecuteTime": {
     "end_time": "2024-06-05T13:36:46.061382Z",
     "start_time": "2024-06-05T13:36:45.960203Z"
    }
   },
   "outputs": [],
   "source": [
    "from sklearn.model_selection import RepeatedKFold"
   ]
  },
  {
   "cell_type": "code",
   "execution_count": 30,
   "id": "1e0cc4d8-d43e-4362-b8eb-2775d48c306c",
   "metadata": {
    "ExecuteTime": {
     "end_time": "2024-06-05T13:36:46.088616Z",
     "start_time": "2024-06-05T13:36:45.974120Z"
    }
   },
   "outputs": [
    {
     "data": {
      "text/plain": "{'fit_time': array([0.00342298, 0.00189304, 0.00122929, 0.00072908, 0.00088596,\n        0.00106502]),\n 'score_time': array([0.00696015, 0.00411177, 0.00233483, 0.00332594, 0.0022471 ,\n        0.00252986]),\n 'test_score': array([0.72417204, 0.70430074, 0.73388395, 0.68590332, 0.72349039,\n        0.55111373])}"
     },
     "execution_count": 30,
     "metadata": {},
     "output_type": "execute_result"
    }
   ],
   "source": [
    "kf = RepeatedKFold(n_splits=3, n_repeats=2)\n",
    "scores = cross_validate(KNeighborsClassifier(n_neighbors=2), \n",
    "                         data, data.Drug, scoring='f1_weighted', \n",
    "                         cv=kf)\n",
    "scores"
   ]
  },
  {
   "cell_type": "markdown",
   "id": "e31d2edb-15a9-4293-9ebe-11af879c2837",
   "metadata": {},
   "source": [
    "## Стратегия Leave One Out"
   ]
  },
  {
   "cell_type": "code",
   "execution_count": 31,
   "id": "d8d75be9-27b8-47eb-9851-ed9050898f48",
   "metadata": {
    "ExecuteTime": {
     "end_time": "2024-06-05T13:36:46.099824Z",
     "start_time": "2024-06-05T13:36:46.001263Z"
    }
   },
   "outputs": [],
   "source": [
    "from sklearn.model_selection import LeaveOneOut"
   ]
  },
  {
   "cell_type": "code",
   "execution_count": 32,
   "id": "5ecb1a32-77e9-4cd0-b624-b531e934e6ac",
   "metadata": {
    "ExecuteTime": {
     "end_time": "2024-06-05T13:36:46.612081Z",
     "start_time": "2024-06-05T13:36:46.011948Z"
    }
   },
   "outputs": [
    {
     "data": {
      "text/plain": "{'fit_time': array([0.00141001, 0.00141478, 0.00104499, 0.001091  , 0.00067616,\n        0.00062728, 0.00063801, 0.0006032 , 0.00063109, 0.00083208,\n        0.0010612 , 0.00085807, 0.00072908, 0.00079608, 0.00076485,\n        0.00070405, 0.00076509, 0.00096822, 0.00099087, 0.00076509,\n        0.0006299 , 0.00065088, 0.00065398, 0.00134182, 0.0007031 ,\n        0.00061798, 0.0006783 , 0.00068712, 0.0007391 , 0.00092316,\n        0.00088906, 0.00072384, 0.00064492, 0.00069594, 0.00081801,\n        0.00064707, 0.00062895, 0.00061584, 0.00094485, 0.00068617,\n        0.00071812, 0.00066471, 0.00068378, 0.00062799, 0.00082779,\n        0.00224996, 0.0008719 , 0.00068521, 0.00292587, 0.00272322,\n        0.00172901, 0.00179219, 0.00130987, 0.00140595, 0.00084686,\n        0.00077701, 0.00090504, 0.00069022, 0.00060582, 0.0006001 ,\n        0.0006721 , 0.00060511, 0.000597  , 0.00064707, 0.00060797,\n        0.000844  , 0.0006609 , 0.00068617, 0.00080395, 0.0006249 ,\n        0.00060487, 0.00107813, 0.00068212, 0.00064492, 0.00061417,\n        0.00061607, 0.00072408, 0.00079584, 0.00063491, 0.00071406,\n        0.00079012, 0.00072718, 0.00114894, 0.00101113, 0.00148201,\n        0.00067091, 0.00084591, 0.00073004, 0.00069475, 0.0007019 ,\n        0.00069594, 0.00101781, 0.00067902, 0.00060701, 0.000597  ,\n        0.00066686, 0.00085783, 0.00070405, 0.00078201, 0.00063205,\n        0.00061989, 0.00071096, 0.00099921, 0.00064898, 0.00066495,\n        0.00061393, 0.00087404, 0.00063801, 0.00058508, 0.00058007,\n        0.0005703 , 0.00059009, 0.00056815, 0.00058532, 0.00058866,\n        0.00060391, 0.00059223, 0.00067925, 0.00061679, 0.0005908 ,\n        0.000597  , 0.00064611, 0.00092292, 0.0006988 , 0.00062895,\n        0.00066996, 0.00079012, 0.00097108, 0.00068307, 0.00069094,\n        0.00062203, 0.0007329 , 0.0006671 , 0.00077319, 0.00072312,\n        0.00088716, 0.00079489, 0.00185585, 0.00101399, 0.00093293,\n        0.00087118, 0.00109196, 0.00097203, 0.000736  , 0.00071979,\n        0.00077891, 0.00180197, 0.00084519, 0.00073814, 0.00083494,\n        0.00137019, 0.0007751 , 0.00113392, 0.00063801, 0.00097799,\n        0.00064993, 0.00076079, 0.00062394, 0.00068998, 0.00084996,\n        0.00074697, 0.00068808, 0.00060511, 0.0006969 , 0.00064516,\n        0.00095987, 0.00068307, 0.00063419, 0.0005908 , 0.00096059,\n        0.00084925, 0.00072765, 0.0006752 , 0.00060296, 0.00064874,\n        0.00064111, 0.00063801, 0.00061989, 0.00066924, 0.00096989,\n        0.00142312, 0.0012269 , 0.00157881, 0.0008831 , 0.00122428,\n        0.00114512, 0.00100422, 0.00141883, 0.00103879, 0.00138903,\n        0.00092506, 0.00160503, 0.00072479, 0.00072289, 0.00071502,\n        0.00059772, 0.00071621, 0.00061083, 0.0015471 , 0.00096512]),\n 'score_time': array([0.00433302, 0.00297809, 0.00199604, 0.00139618, 0.00121188,\n        0.00119877, 0.00116992, 0.001194  , 0.00189281, 0.00261903,\n        0.00142217, 0.00154305, 0.00148416, 0.00166297, 0.00137806,\n        0.00136304, 0.00270581, 0.00197077, 0.00147319, 0.00125289,\n        0.00130105, 0.00121188, 0.00142288, 0.0017333 , 0.0013001 ,\n        0.00126195, 0.00126386, 0.00136876, 0.00151992, 0.00148106,\n        0.00130272, 0.00128508, 0.00123882, 0.00141191, 0.00131297,\n        0.00116396, 0.00117302, 0.00125098, 0.0013001 , 0.0012269 ,\n        0.001405  , 0.00132394, 0.0011642 , 0.00124812, 0.00140429,\n        0.00295091, 0.00138593, 0.00343394, 0.00462627, 0.00462103,\n        0.00300288, 0.00355887, 0.00303006, 0.00298023, 0.00155306,\n        0.00211716, 0.00144267, 0.00122595, 0.00114512, 0.00124502,\n        0.00118303, 0.00114393, 0.00112987, 0.00120187, 0.00129104,\n        0.00157595, 0.0011878 , 0.00121999, 0.00125694, 0.001158  ,\n        0.00124216, 0.00187206, 0.00129795, 0.00117707, 0.00116992,\n        0.00138497, 0.00207782, 0.00129628, 0.00116611, 0.001544  ,\n        0.00142789, 0.00170183, 0.00524426, 0.00249791, 0.00138402,\n        0.00152898, 0.0014801 , 0.00135493, 0.0014081 , 0.00131989,\n        0.00144911, 0.00153399, 0.00121999, 0.00113297, 0.00120401,\n        0.00124311, 0.00172114, 0.00123286, 0.00147486, 0.00115609,\n        0.00121498, 0.0014081 , 0.00137496, 0.00129318, 0.00124884,\n        0.00115609, 0.0014689 , 0.001127  , 0.00111675, 0.00108886,\n        0.00110984, 0.00110173, 0.001091  , 0.00109076, 0.00111628,\n        0.00110006, 0.00127482, 0.00117779, 0.0011363 , 0.00116134,\n        0.00127816, 0.00150394, 0.00137711, 0.00167227, 0.00116491,\n        0.00130415, 0.00139976, 0.00159907, 0.00151801, 0.00124288,\n        0.00135612, 0.00129199, 0.00141597, 0.00137281, 0.00246382,\n        0.00155187, 0.00167298, 0.0023241 , 0.00299072, 0.00283098,\n        0.00176477, 0.00137806, 0.001647  , 0.00130606, 0.00150204,\n        0.00320315, 0.00171423, 0.00164914, 0.00148988, 0.00167394,\n        0.00185299, 0.00154686, 0.001477  , 0.00136209, 0.00130987,\n        0.00148296, 0.00124907, 0.00117302, 0.00145197, 0.00154233,\n        0.00128484, 0.00132298, 0.00131774, 0.00127196, 0.00123382,\n        0.00153804, 0.00124907, 0.00115108, 0.00132418, 0.0013423 ,\n        0.0016768 , 0.0013113 , 0.00124502, 0.00117397, 0.0012691 ,\n        0.00118804, 0.00116181, 0.00131106, 0.00145268, 0.00261092,\n        0.00201082, 0.00293708, 0.00186396, 0.00202322, 0.002352  ,\n        0.00268579, 0.00164294, 0.00408912, 0.0018003 , 0.00149083,\n        0.00269198, 0.0014739 , 0.00141191, 0.00136924, 0.00123024,\n        0.00219893, 0.00121474, 0.00138783, 0.0028069 , 0.00246692]),\n 'test_score': array([1., 1., 1., 1., 1., 0., 1., 0., 1., 1., 1., 1., 1., 1., 1., 1., 0.,\n        1., 1., 1., 1., 1., 1., 1., 1., 1., 1., 0., 1., 1., 1., 0., 0., 1.,\n        1., 1., 1., 1., 1., 1., 1., 1., 1., 1., 1., 1., 0., 0., 1., 1., 1.,\n        0., 1., 1., 1., 1., 1., 1., 0., 1., 1., 0., 1., 1., 1., 1., 0., 0.,\n        1., 1., 0., 1., 1., 1., 1., 1., 0., 1., 0., 0., 1., 1., 0., 0., 1.,\n        1., 1., 1., 1., 1., 1., 1., 1., 1., 0., 1., 1., 1., 1., 1., 1., 0.,\n        1., 0., 1., 1., 1., 1., 1., 1., 1., 1., 1., 1., 1., 1., 1., 1., 0.,\n        1., 1., 1., 1., 1., 1., 1., 1., 1., 1., 0., 1., 1., 1., 1., 1., 1.,\n        1., 0., 0., 0., 1., 1., 0., 1., 0., 1., 1., 0., 1., 1., 1., 1., 1.,\n        0., 1., 1., 1., 1., 0., 1., 0., 1., 0., 1., 1., 1., 1., 0., 1., 0.,\n        0., 0., 1., 1., 0., 1., 0., 1., 1., 1., 1., 0., 0., 1., 1., 1., 1.,\n        0., 1., 1., 1., 0., 1., 0., 1., 0., 0., 0., 1., 0.])}"
     },
     "execution_count": 32,
     "metadata": {},
     "output_type": "execute_result"
    }
   ],
   "source": [
    "kf = LeaveOneOut()\n",
    "scores = cross_validate(KNeighborsClassifier(n_neighbors=2), \n",
    "                         data, data.Drug, scoring='f1_weighted', \n",
    "                         cv=kf)\n",
    "scores"
   ]
  },
  {
   "cell_type": "markdown",
   "id": "b6aaa8e2-d760-4a91-8884-dab5059c288a",
   "metadata": {},
   "source": [
    "## Стратегия ShuffleSplit"
   ]
  },
  {
   "cell_type": "code",
   "execution_count": 33,
   "id": "7f05ff1b-c7fe-483a-b15f-393c33291d7b",
   "metadata": {
    "ExecuteTime": {
     "end_time": "2024-06-05T13:36:46.614770Z",
     "start_time": "2024-06-05T13:36:46.557430Z"
    }
   },
   "outputs": [],
   "source": [
    "from sklearn.model_selection import ShuffleSplit"
   ]
  },
  {
   "cell_type": "code",
   "execution_count": 34,
   "id": "f50892c4-0491-4c53-ab55-b3c85da75f2c",
   "metadata": {
    "ExecuteTime": {
     "end_time": "2024-06-05T13:36:46.690841Z",
     "start_time": "2024-06-05T13:36:46.561394Z"
    }
   },
   "outputs": [
    {
     "data": {
      "text/plain": "{'fit_time': array([0.00594568, 0.00129199, 0.00081897, 0.00096893, 0.00233126]),\n 'score_time': array([0.01292014, 0.00313497, 0.00271797, 0.00243402, 0.00357389]),\n 'test_score': array([0.68608435, 0.7751049 , 0.77345984, 0.74945055, 0.71395431])}"
     },
     "execution_count": 34,
     "metadata": {},
     "output_type": "execute_result"
    }
   ],
   "source": [
    "kf = ShuffleSplit(n_splits=5, test_size=0.25)\n",
    "scores = cross_validate(KNeighborsClassifier(n_neighbors=2), \n",
    "                         data, data.Drug, scoring='f1_weighted', \n",
    "                         cv=kf)\n",
    "scores"
   ]
  },
  {
   "cell_type": "markdown",
   "id": "e4d731de-5941-4464-b608-cab43ce7a73f",
   "metadata": {},
   "source": [
    "## Стратегия StratifiedKFold"
   ]
  },
  {
   "cell_type": "code",
   "execution_count": 35,
   "id": "e53445a9-2a35-4c63-9786-be9910cd8d7f",
   "metadata": {
    "ExecuteTime": {
     "end_time": "2024-06-05T13:36:46.706655Z",
     "start_time": "2024-06-05T13:36:46.608989Z"
    }
   },
   "outputs": [],
   "source": [
    "from sklearn.model_selection import StratifiedKFold"
   ]
  },
  {
   "cell_type": "code",
   "execution_count": 36,
   "id": "c715990c-a93a-493a-b7fa-f0dd1c7ed29a",
   "metadata": {
    "ExecuteTime": {
     "end_time": "2024-06-05T13:36:46.756781Z",
     "start_time": "2024-06-05T13:36:46.625212Z"
    }
   },
   "outputs": [
    {
     "data": {
      "text/plain": "{'fit_time': array([0.0023191 , 0.0015099 , 0.00333428]),\n 'score_time': array([0.00689387, 0.00563097, 0.00560594]),\n 'test_score': array([0.7478186 , 0.73262159, 0.63757958])}"
     },
     "execution_count": 36,
     "metadata": {},
     "output_type": "execute_result"
    }
   ],
   "source": [
    "skf = StratifiedKFold(n_splits=3)\n",
    "scores = cross_validate(KNeighborsClassifier(n_neighbors=2), \n",
    "                         data, data.Drug, scoring='f1_weighted', \n",
    "                         cv=skf)\n",
    "scores"
   ]
  },
  {
   "cell_type": "markdown",
   "id": "0c2c9c54-f9ff-41e4-98cc-57a1bdc5cc48",
   "metadata": {},
   "source": [
    "## Оптимизация гиперпараметра"
   ]
  },
  {
   "cell_type": "markdown",
   "id": "3dd0debf-8d76-4479-91c1-da997e291d47",
   "metadata": {},
   "source": [
    "## Через GridSearch"
   ]
  },
  {
   "cell_type": "code",
   "execution_count": 37,
   "id": "b279d698-825f-401b-84d9-9fa4c6094aef",
   "metadata": {
    "ExecuteTime": {
     "end_time": "2024-06-05T13:36:46.758823Z",
     "start_time": "2024-06-05T13:36:46.651183Z"
    }
   },
   "outputs": [],
   "source": [
    "from sklearn.model_selection import GridSearchCV"
   ]
  },
  {
   "cell_type": "code",
   "execution_count": 38,
   "id": "813b652f-9f81-4ba5-b926-1d68daab97e0",
   "metadata": {
    "ExecuteTime": {
     "end_time": "2024-06-05T13:36:46.760933Z",
     "start_time": "2024-06-05T13:36:46.657068Z"
    }
   },
   "outputs": [
    {
     "data": {
      "text/plain": "[{'n_neighbors': array([ 5, 10, 15, 20, 25, 30, 35, 40, 45, 50])}]"
     },
     "execution_count": 38,
     "metadata": {},
     "output_type": "execute_result"
    }
   ],
   "source": [
    "n_range = np.array(range(5,55,5))\n",
    "tuned_parameters = [{'n_neighbors': n_range}]\n",
    "tuned_parameters"
   ]
  },
  {
   "cell_type": "code",
   "execution_count": 39,
   "id": "c1050829-d178-427f-891c-67c3cadace22",
   "metadata": {
    "ExecuteTime": {
     "end_time": "2024-06-05T13:36:46.935241Z",
     "start_time": "2024-06-05T13:36:46.666306Z"
    }
   },
   "outputs": [
    {
     "name": "stdout",
     "output_type": "stream",
     "text": [
      "CPU times: user 144 ms, sys: 4.42 ms, total: 148 ms\n",
      "Wall time: 163 ms\n"
     ]
    },
    {
     "data": {
      "text/plain": "GridSearchCV(cv=5, estimator=KNeighborsClassifier(),\n             param_grid=[{'n_neighbors': array([ 5, 10, 15, 20, 25, 30, 35, 40, 45, 50])}],\n             scoring='accuracy')",
      "text/html": "<style>#sk-container-id-1 {\n  /* Definition of color scheme common for light and dark mode */\n  --sklearn-color-text: black;\n  --sklearn-color-line: gray;\n  /* Definition of color scheme for unfitted estimators */\n  --sklearn-color-unfitted-level-0: #fff5e6;\n  --sklearn-color-unfitted-level-1: #f6e4d2;\n  --sklearn-color-unfitted-level-2: #ffe0b3;\n  --sklearn-color-unfitted-level-3: chocolate;\n  /* Definition of color scheme for fitted estimators */\n  --sklearn-color-fitted-level-0: #f0f8ff;\n  --sklearn-color-fitted-level-1: #d4ebff;\n  --sklearn-color-fitted-level-2: #b3dbfd;\n  --sklearn-color-fitted-level-3: cornflowerblue;\n\n  /* Specific color for light theme */\n  --sklearn-color-text-on-default-background: var(--sg-text-color, var(--theme-code-foreground, var(--jp-content-font-color1, black)));\n  --sklearn-color-background: var(--sg-background-color, var(--theme-background, var(--jp-layout-color0, white)));\n  --sklearn-color-border-box: var(--sg-text-color, var(--theme-code-foreground, var(--jp-content-font-color1, black)));\n  --sklearn-color-icon: #696969;\n\n  @media (prefers-color-scheme: dark) {\n    /* Redefinition of color scheme for dark theme */\n    --sklearn-color-text-on-default-background: var(--sg-text-color, var(--theme-code-foreground, var(--jp-content-font-color1, white)));\n    --sklearn-color-background: var(--sg-background-color, var(--theme-background, var(--jp-layout-color0, #111)));\n    --sklearn-color-border-box: var(--sg-text-color, var(--theme-code-foreground, var(--jp-content-font-color1, white)));\n    --sklearn-color-icon: #878787;\n  }\n}\n\n#sk-container-id-1 {\n  color: var(--sklearn-color-text);\n}\n\n#sk-container-id-1 pre {\n  padding: 0;\n}\n\n#sk-container-id-1 input.sk-hidden--visually {\n  border: 0;\n  clip: rect(1px 1px 1px 1px);\n  clip: rect(1px, 1px, 1px, 1px);\n  height: 1px;\n  margin: -1px;\n  overflow: hidden;\n  padding: 0;\n  position: absolute;\n  width: 1px;\n}\n\n#sk-container-id-1 div.sk-dashed-wrapped {\n  border: 1px dashed var(--sklearn-color-line);\n  margin: 0 0.4em 0.5em 0.4em;\n  box-sizing: border-box;\n  padding-bottom: 0.4em;\n  background-color: var(--sklearn-color-background);\n}\n\n#sk-container-id-1 div.sk-container {\n  /* jupyter's `normalize.less` sets `[hidden] { display: none; }`\n     but bootstrap.min.css set `[hidden] { display: none !important; }`\n     so we also need the `!important` here to be able to override the\n     default hidden behavior on the sphinx rendered scikit-learn.org.\n     See: https://github.com/scikit-learn/scikit-learn/issues/21755 */\n  display: inline-block !important;\n  position: relative;\n}\n\n#sk-container-id-1 div.sk-text-repr-fallback {\n  display: none;\n}\n\ndiv.sk-parallel-item,\ndiv.sk-serial,\ndiv.sk-item {\n  /* draw centered vertical line to link estimators */\n  background-image: linear-gradient(var(--sklearn-color-text-on-default-background), var(--sklearn-color-text-on-default-background));\n  background-size: 2px 100%;\n  background-repeat: no-repeat;\n  background-position: center center;\n}\n\n/* Parallel-specific style estimator block */\n\n#sk-container-id-1 div.sk-parallel-item::after {\n  content: \"\";\n  width: 100%;\n  border-bottom: 2px solid var(--sklearn-color-text-on-default-background);\n  flex-grow: 1;\n}\n\n#sk-container-id-1 div.sk-parallel {\n  display: flex;\n  align-items: stretch;\n  justify-content: center;\n  background-color: var(--sklearn-color-background);\n  position: relative;\n}\n\n#sk-container-id-1 div.sk-parallel-item {\n  display: flex;\n  flex-direction: column;\n}\n\n#sk-container-id-1 div.sk-parallel-item:first-child::after {\n  align-self: flex-end;\n  width: 50%;\n}\n\n#sk-container-id-1 div.sk-parallel-item:last-child::after {\n  align-self: flex-start;\n  width: 50%;\n}\n\n#sk-container-id-1 div.sk-parallel-item:only-child::after {\n  width: 0;\n}\n\n/* Serial-specific style estimator block */\n\n#sk-container-id-1 div.sk-serial {\n  display: flex;\n  flex-direction: column;\n  align-items: center;\n  background-color: var(--sklearn-color-background);\n  padding-right: 1em;\n  padding-left: 1em;\n}\n\n\n/* Toggleable style: style used for estimator/Pipeline/ColumnTransformer box that is\nclickable and can be expanded/collapsed.\n- Pipeline and ColumnTransformer use this feature and define the default style\n- Estimators will overwrite some part of the style using the `sk-estimator` class\n*/\n\n/* Pipeline and ColumnTransformer style (default) */\n\n#sk-container-id-1 div.sk-toggleable {\n  /* Default theme specific background. It is overwritten whether we have a\n  specific estimator or a Pipeline/ColumnTransformer */\n  background-color: var(--sklearn-color-background);\n}\n\n/* Toggleable label */\n#sk-container-id-1 label.sk-toggleable__label {\n  cursor: pointer;\n  display: block;\n  width: 100%;\n  margin-bottom: 0;\n  padding: 0.5em;\n  box-sizing: border-box;\n  text-align: center;\n}\n\n#sk-container-id-1 label.sk-toggleable__label-arrow:before {\n  /* Arrow on the left of the label */\n  content: \"▸\";\n  float: left;\n  margin-right: 0.25em;\n  color: var(--sklearn-color-icon);\n}\n\n#sk-container-id-1 label.sk-toggleable__label-arrow:hover:before {\n  color: var(--sklearn-color-text);\n}\n\n/* Toggleable content - dropdown */\n\n#sk-container-id-1 div.sk-toggleable__content {\n  max-height: 0;\n  max-width: 0;\n  overflow: hidden;\n  text-align: left;\n  /* unfitted */\n  background-color: var(--sklearn-color-unfitted-level-0);\n}\n\n#sk-container-id-1 div.sk-toggleable__content.fitted {\n  /* fitted */\n  background-color: var(--sklearn-color-fitted-level-0);\n}\n\n#sk-container-id-1 div.sk-toggleable__content pre {\n  margin: 0.2em;\n  border-radius: 0.25em;\n  color: var(--sklearn-color-text);\n  /* unfitted */\n  background-color: var(--sklearn-color-unfitted-level-0);\n}\n\n#sk-container-id-1 div.sk-toggleable__content.fitted pre {\n  /* unfitted */\n  background-color: var(--sklearn-color-fitted-level-0);\n}\n\n#sk-container-id-1 input.sk-toggleable__control:checked~div.sk-toggleable__content {\n  /* Expand drop-down */\n  max-height: 200px;\n  max-width: 100%;\n  overflow: auto;\n}\n\n#sk-container-id-1 input.sk-toggleable__control:checked~label.sk-toggleable__label-arrow:before {\n  content: \"▾\";\n}\n\n/* Pipeline/ColumnTransformer-specific style */\n\n#sk-container-id-1 div.sk-label input.sk-toggleable__control:checked~label.sk-toggleable__label {\n  color: var(--sklearn-color-text);\n  background-color: var(--sklearn-color-unfitted-level-2);\n}\n\n#sk-container-id-1 div.sk-label.fitted input.sk-toggleable__control:checked~label.sk-toggleable__label {\n  background-color: var(--sklearn-color-fitted-level-2);\n}\n\n/* Estimator-specific style */\n\n/* Colorize estimator box */\n#sk-container-id-1 div.sk-estimator input.sk-toggleable__control:checked~label.sk-toggleable__label {\n  /* unfitted */\n  background-color: var(--sklearn-color-unfitted-level-2);\n}\n\n#sk-container-id-1 div.sk-estimator.fitted input.sk-toggleable__control:checked~label.sk-toggleable__label {\n  /* fitted */\n  background-color: var(--sklearn-color-fitted-level-2);\n}\n\n#sk-container-id-1 div.sk-label label.sk-toggleable__label,\n#sk-container-id-1 div.sk-label label {\n  /* The background is the default theme color */\n  color: var(--sklearn-color-text-on-default-background);\n}\n\n/* On hover, darken the color of the background */\n#sk-container-id-1 div.sk-label:hover label.sk-toggleable__label {\n  color: var(--sklearn-color-text);\n  background-color: var(--sklearn-color-unfitted-level-2);\n}\n\n/* Label box, darken color on hover, fitted */\n#sk-container-id-1 div.sk-label.fitted:hover label.sk-toggleable__label.fitted {\n  color: var(--sklearn-color-text);\n  background-color: var(--sklearn-color-fitted-level-2);\n}\n\n/* Estimator label */\n\n#sk-container-id-1 div.sk-label label {\n  font-family: monospace;\n  font-weight: bold;\n  display: inline-block;\n  line-height: 1.2em;\n}\n\n#sk-container-id-1 div.sk-label-container {\n  text-align: center;\n}\n\n/* Estimator-specific */\n#sk-container-id-1 div.sk-estimator {\n  font-family: monospace;\n  border: 1px dotted var(--sklearn-color-border-box);\n  border-radius: 0.25em;\n  box-sizing: border-box;\n  margin-bottom: 0.5em;\n  /* unfitted */\n  background-color: var(--sklearn-color-unfitted-level-0);\n}\n\n#sk-container-id-1 div.sk-estimator.fitted {\n  /* fitted */\n  background-color: var(--sklearn-color-fitted-level-0);\n}\n\n/* on hover */\n#sk-container-id-1 div.sk-estimator:hover {\n  /* unfitted */\n  background-color: var(--sklearn-color-unfitted-level-2);\n}\n\n#sk-container-id-1 div.sk-estimator.fitted:hover {\n  /* fitted */\n  background-color: var(--sklearn-color-fitted-level-2);\n}\n\n/* Specification for estimator info (e.g. \"i\" and \"?\") */\n\n/* Common style for \"i\" and \"?\" */\n\n.sk-estimator-doc-link,\na:link.sk-estimator-doc-link,\na:visited.sk-estimator-doc-link {\n  float: right;\n  font-size: smaller;\n  line-height: 1em;\n  font-family: monospace;\n  background-color: var(--sklearn-color-background);\n  border-radius: 1em;\n  height: 1em;\n  width: 1em;\n  text-decoration: none !important;\n  margin-left: 1ex;\n  /* unfitted */\n  border: var(--sklearn-color-unfitted-level-1) 1pt solid;\n  color: var(--sklearn-color-unfitted-level-1);\n}\n\n.sk-estimator-doc-link.fitted,\na:link.sk-estimator-doc-link.fitted,\na:visited.sk-estimator-doc-link.fitted {\n  /* fitted */\n  border: var(--sklearn-color-fitted-level-1) 1pt solid;\n  color: var(--sklearn-color-fitted-level-1);\n}\n\n/* On hover */\ndiv.sk-estimator:hover .sk-estimator-doc-link:hover,\n.sk-estimator-doc-link:hover,\ndiv.sk-label-container:hover .sk-estimator-doc-link:hover,\n.sk-estimator-doc-link:hover {\n  /* unfitted */\n  background-color: var(--sklearn-color-unfitted-level-3);\n  color: var(--sklearn-color-background);\n  text-decoration: none;\n}\n\ndiv.sk-estimator.fitted:hover .sk-estimator-doc-link.fitted:hover,\n.sk-estimator-doc-link.fitted:hover,\ndiv.sk-label-container:hover .sk-estimator-doc-link.fitted:hover,\n.sk-estimator-doc-link.fitted:hover {\n  /* fitted */\n  background-color: var(--sklearn-color-fitted-level-3);\n  color: var(--sklearn-color-background);\n  text-decoration: none;\n}\n\n/* Span, style for the box shown on hovering the info icon */\n.sk-estimator-doc-link span {\n  display: none;\n  z-index: 9999;\n  position: relative;\n  font-weight: normal;\n  right: .2ex;\n  padding: .5ex;\n  margin: .5ex;\n  width: min-content;\n  min-width: 20ex;\n  max-width: 50ex;\n  color: var(--sklearn-color-text);\n  box-shadow: 2pt 2pt 4pt #999;\n  /* unfitted */\n  background: var(--sklearn-color-unfitted-level-0);\n  border: .5pt solid var(--sklearn-color-unfitted-level-3);\n}\n\n.sk-estimator-doc-link.fitted span {\n  /* fitted */\n  background: var(--sklearn-color-fitted-level-0);\n  border: var(--sklearn-color-fitted-level-3);\n}\n\n.sk-estimator-doc-link:hover span {\n  display: block;\n}\n\n/* \"?\"-specific style due to the `<a>` HTML tag */\n\n#sk-container-id-1 a.estimator_doc_link {\n  float: right;\n  font-size: 1rem;\n  line-height: 1em;\n  font-family: monospace;\n  background-color: var(--sklearn-color-background);\n  border-radius: 1rem;\n  height: 1rem;\n  width: 1rem;\n  text-decoration: none;\n  /* unfitted */\n  color: var(--sklearn-color-unfitted-level-1);\n  border: var(--sklearn-color-unfitted-level-1) 1pt solid;\n}\n\n#sk-container-id-1 a.estimator_doc_link.fitted {\n  /* fitted */\n  border: var(--sklearn-color-fitted-level-1) 1pt solid;\n  color: var(--sklearn-color-fitted-level-1);\n}\n\n/* On hover */\n#sk-container-id-1 a.estimator_doc_link:hover {\n  /* unfitted */\n  background-color: var(--sklearn-color-unfitted-level-3);\n  color: var(--sklearn-color-background);\n  text-decoration: none;\n}\n\n#sk-container-id-1 a.estimator_doc_link.fitted:hover {\n  /* fitted */\n  background-color: var(--sklearn-color-fitted-level-3);\n}\n</style><div id=\"sk-container-id-1\" class=\"sk-top-container\"><div class=\"sk-text-repr-fallback\"><pre>GridSearchCV(cv=5, estimator=KNeighborsClassifier(),\n             param_grid=[{&#x27;n_neighbors&#x27;: array([ 5, 10, 15, 20, 25, 30, 35, 40, 45, 50])}],\n             scoring=&#x27;accuracy&#x27;)</pre><b>In a Jupyter environment, please rerun this cell to show the HTML representation or trust the notebook. <br />On GitHub, the HTML representation is unable to render, please try loading this page with nbviewer.org.</b></div><div class=\"sk-container\" hidden><div class=\"sk-item sk-dashed-wrapped\"><div class=\"sk-label-container\"><div class=\"sk-label fitted sk-toggleable\"><input class=\"sk-toggleable__control sk-hidden--visually\" id=\"sk-estimator-id-1\" type=\"checkbox\" ><label for=\"sk-estimator-id-1\" class=\"sk-toggleable__label fitted sk-toggleable__label-arrow fitted\">&nbsp;&nbsp;GridSearchCV<a class=\"sk-estimator-doc-link fitted\" rel=\"noreferrer\" target=\"_blank\" href=\"https://scikit-learn.org/1.4/modules/generated/sklearn.model_selection.GridSearchCV.html\">?<span>Documentation for GridSearchCV</span></a><span class=\"sk-estimator-doc-link fitted\">i<span>Fitted</span></span></label><div class=\"sk-toggleable__content fitted\"><pre>GridSearchCV(cv=5, estimator=KNeighborsClassifier(),\n             param_grid=[{&#x27;n_neighbors&#x27;: array([ 5, 10, 15, 20, 25, 30, 35, 40, 45, 50])}],\n             scoring=&#x27;accuracy&#x27;)</pre></div> </div></div><div class=\"sk-parallel\"><div class=\"sk-parallel-item\"><div class=\"sk-item\"><div class=\"sk-label-container\"><div class=\"sk-label fitted sk-toggleable\"><input class=\"sk-toggleable__control sk-hidden--visually\" id=\"sk-estimator-id-2\" type=\"checkbox\" ><label for=\"sk-estimator-id-2\" class=\"sk-toggleable__label fitted sk-toggleable__label-arrow fitted\">estimator: KNeighborsClassifier</label><div class=\"sk-toggleable__content fitted\"><pre>KNeighborsClassifier()</pre></div> </div></div><div class=\"sk-serial\"><div class=\"sk-item\"><div class=\"sk-estimator fitted sk-toggleable\"><input class=\"sk-toggleable__control sk-hidden--visually\" id=\"sk-estimator-id-3\" type=\"checkbox\" ><label for=\"sk-estimator-id-3\" class=\"sk-toggleable__label fitted sk-toggleable__label-arrow fitted\">&nbsp;KNeighborsClassifier<a class=\"sk-estimator-doc-link fitted\" rel=\"noreferrer\" target=\"_blank\" href=\"https://scikit-learn.org/1.4/modules/generated/sklearn.neighbors.KNeighborsClassifier.html\">?<span>Documentation for KNeighborsClassifier</span></a></label><div class=\"sk-toggleable__content fitted\"><pre>KNeighborsClassifier()</pre></div> </div></div></div></div></div></div></div></div></div>"
     },
     "execution_count": 39,
     "metadata": {},
     "output_type": "execute_result"
    }
   ],
   "source": [
    "%%time\n",
    "clf_gs = GridSearchCV(KNeighborsClassifier(), tuned_parameters, cv=5, scoring='accuracy')\n",
    "clf_gs.fit(X_train, y_train)"
   ]
  },
  {
   "cell_type": "code",
   "execution_count": 40,
   "id": "20533be5-d88e-4701-a9f0-b490972001c7",
   "metadata": {
    "ExecuteTime": {
     "end_time": "2024-06-05T13:36:46.941023Z",
     "start_time": "2024-06-05T13:36:46.852011Z"
    }
   },
   "outputs": [
    {
     "data": {
      "text/plain": "{'mean_fit_time': array([0.00122223, 0.00108118, 0.00088992, 0.00083909, 0.00088587,\n        0.00064812, 0.00079174, 0.00211186, 0.00084472, 0.00085554]),\n 'std_fit_time': array([5.96457999e-04, 1.44877803e-04, 2.23532217e-04, 2.54722357e-04,\n        1.95982137e-04, 2.25426500e-05, 9.12938830e-05, 1.47933273e-03,\n        7.56369556e-05, 1.62819579e-04]),\n 'mean_score_time': array([0.0027307 , 0.00269508, 0.00142612, 0.00153589, 0.00155625,\n        0.00142131, 0.00196519, 0.00309544, 0.0017602 , 0.0017837 ]),\n 'std_score_time': array([1.13028761e-03, 6.57902321e-04, 4.80498562e-05, 2.87692064e-04,\n        2.10511622e-04, 1.57047431e-04, 9.59816769e-04, 1.62741627e-03,\n        3.45341502e-04, 4.94689644e-04]),\n 'param_n_neighbors': masked_array(data=[5, 10, 15, 20, 25, 30, 35, 40, 45, 50],\n              mask=[False, False, False, False, False, False, False, False,\n                    False, False],\n        fill_value='?',\n             dtype=object),\n 'params': [{'n_neighbors': 5},\n  {'n_neighbors': 10},\n  {'n_neighbors': 15},\n  {'n_neighbors': 20},\n  {'n_neighbors': 25},\n  {'n_neighbors': 30},\n  {'n_neighbors': 35},\n  {'n_neighbors': 40},\n  {'n_neighbors': 45},\n  {'n_neighbors': 50}],\n 'split0_test_score': array([0.63333333, 0.66666667, 0.56666667, 0.7       , 0.7       ,\n        0.63333333, 0.63333333, 0.56666667, 0.6       , 0.6       ]),\n 'split1_test_score': array([0.76666667, 0.7       , 0.73333333, 0.66666667, 0.66666667,\n        0.66666667, 0.66666667, 0.63333333, 0.63333333, 0.6       ]),\n 'split2_test_score': array([0.63333333, 0.5       , 0.6       , 0.63333333, 0.63333333,\n        0.6       , 0.63333333, 0.6       , 0.56666667, 0.56666667]),\n 'split3_test_score': array([0.7       , 0.73333333, 0.7       , 0.6       , 0.53333333,\n        0.5       , 0.53333333, 0.56666667, 0.53333333, 0.5       ]),\n 'split4_test_score': array([0.73333333, 0.7       , 0.7       , 0.63333333, 0.6       ,\n        0.6       , 0.66666667, 0.63333333, 0.63333333, 0.6       ]),\n 'mean_test_score': array([0.69333333, 0.66      , 0.66      , 0.64666667, 0.62666667,\n        0.6       , 0.62666667, 0.6       , 0.59333333, 0.57333333]),\n 'std_test_score': array([0.05333333, 0.08273116, 0.06463573, 0.03399346, 0.05734884,\n        0.05577734, 0.04898979, 0.02981424, 0.03887301, 0.03887301]),\n 'rank_test_score': array([ 1,  2,  2,  4,  5,  7,  6,  8,  9, 10], dtype=int32)}"
     },
     "execution_count": 40,
     "metadata": {},
     "output_type": "execute_result"
    }
   ],
   "source": [
    "clf_gs.cv_results_"
   ]
  },
  {
   "cell_type": "code",
   "execution_count": 41,
   "id": "0700ebc6-17d1-402a-b35a-6bc9686aa4ed",
   "metadata": {
    "ExecuteTime": {
     "end_time": "2024-06-05T13:36:46.943131Z",
     "start_time": "2024-06-05T13:36:46.867993Z"
    }
   },
   "outputs": [
    {
     "data": {
      "text/plain": "KNeighborsClassifier()",
      "text/html": "<style>#sk-container-id-2 {\n  /* Definition of color scheme common for light and dark mode */\n  --sklearn-color-text: black;\n  --sklearn-color-line: gray;\n  /* Definition of color scheme for unfitted estimators */\n  --sklearn-color-unfitted-level-0: #fff5e6;\n  --sklearn-color-unfitted-level-1: #f6e4d2;\n  --sklearn-color-unfitted-level-2: #ffe0b3;\n  --sklearn-color-unfitted-level-3: chocolate;\n  /* Definition of color scheme for fitted estimators */\n  --sklearn-color-fitted-level-0: #f0f8ff;\n  --sklearn-color-fitted-level-1: #d4ebff;\n  --sklearn-color-fitted-level-2: #b3dbfd;\n  --sklearn-color-fitted-level-3: cornflowerblue;\n\n  /* Specific color for light theme */\n  --sklearn-color-text-on-default-background: var(--sg-text-color, var(--theme-code-foreground, var(--jp-content-font-color1, black)));\n  --sklearn-color-background: var(--sg-background-color, var(--theme-background, var(--jp-layout-color0, white)));\n  --sklearn-color-border-box: var(--sg-text-color, var(--theme-code-foreground, var(--jp-content-font-color1, black)));\n  --sklearn-color-icon: #696969;\n\n  @media (prefers-color-scheme: dark) {\n    /* Redefinition of color scheme for dark theme */\n    --sklearn-color-text-on-default-background: var(--sg-text-color, var(--theme-code-foreground, var(--jp-content-font-color1, white)));\n    --sklearn-color-background: var(--sg-background-color, var(--theme-background, var(--jp-layout-color0, #111)));\n    --sklearn-color-border-box: var(--sg-text-color, var(--theme-code-foreground, var(--jp-content-font-color1, white)));\n    --sklearn-color-icon: #878787;\n  }\n}\n\n#sk-container-id-2 {\n  color: var(--sklearn-color-text);\n}\n\n#sk-container-id-2 pre {\n  padding: 0;\n}\n\n#sk-container-id-2 input.sk-hidden--visually {\n  border: 0;\n  clip: rect(1px 1px 1px 1px);\n  clip: rect(1px, 1px, 1px, 1px);\n  height: 1px;\n  margin: -1px;\n  overflow: hidden;\n  padding: 0;\n  position: absolute;\n  width: 1px;\n}\n\n#sk-container-id-2 div.sk-dashed-wrapped {\n  border: 1px dashed var(--sklearn-color-line);\n  margin: 0 0.4em 0.5em 0.4em;\n  box-sizing: border-box;\n  padding-bottom: 0.4em;\n  background-color: var(--sklearn-color-background);\n}\n\n#sk-container-id-2 div.sk-container {\n  /* jupyter's `normalize.less` sets `[hidden] { display: none; }`\n     but bootstrap.min.css set `[hidden] { display: none !important; }`\n     so we also need the `!important` here to be able to override the\n     default hidden behavior on the sphinx rendered scikit-learn.org.\n     See: https://github.com/scikit-learn/scikit-learn/issues/21755 */\n  display: inline-block !important;\n  position: relative;\n}\n\n#sk-container-id-2 div.sk-text-repr-fallback {\n  display: none;\n}\n\ndiv.sk-parallel-item,\ndiv.sk-serial,\ndiv.sk-item {\n  /* draw centered vertical line to link estimators */\n  background-image: linear-gradient(var(--sklearn-color-text-on-default-background), var(--sklearn-color-text-on-default-background));\n  background-size: 2px 100%;\n  background-repeat: no-repeat;\n  background-position: center center;\n}\n\n/* Parallel-specific style estimator block */\n\n#sk-container-id-2 div.sk-parallel-item::after {\n  content: \"\";\n  width: 100%;\n  border-bottom: 2px solid var(--sklearn-color-text-on-default-background);\n  flex-grow: 1;\n}\n\n#sk-container-id-2 div.sk-parallel {\n  display: flex;\n  align-items: stretch;\n  justify-content: center;\n  background-color: var(--sklearn-color-background);\n  position: relative;\n}\n\n#sk-container-id-2 div.sk-parallel-item {\n  display: flex;\n  flex-direction: column;\n}\n\n#sk-container-id-2 div.sk-parallel-item:first-child::after {\n  align-self: flex-end;\n  width: 50%;\n}\n\n#sk-container-id-2 div.sk-parallel-item:last-child::after {\n  align-self: flex-start;\n  width: 50%;\n}\n\n#sk-container-id-2 div.sk-parallel-item:only-child::after {\n  width: 0;\n}\n\n/* Serial-specific style estimator block */\n\n#sk-container-id-2 div.sk-serial {\n  display: flex;\n  flex-direction: column;\n  align-items: center;\n  background-color: var(--sklearn-color-background);\n  padding-right: 1em;\n  padding-left: 1em;\n}\n\n\n/* Toggleable style: style used for estimator/Pipeline/ColumnTransformer box that is\nclickable and can be expanded/collapsed.\n- Pipeline and ColumnTransformer use this feature and define the default style\n- Estimators will overwrite some part of the style using the `sk-estimator` class\n*/\n\n/* Pipeline and ColumnTransformer style (default) */\n\n#sk-container-id-2 div.sk-toggleable {\n  /* Default theme specific background. It is overwritten whether we have a\n  specific estimator or a Pipeline/ColumnTransformer */\n  background-color: var(--sklearn-color-background);\n}\n\n/* Toggleable label */\n#sk-container-id-2 label.sk-toggleable__label {\n  cursor: pointer;\n  display: block;\n  width: 100%;\n  margin-bottom: 0;\n  padding: 0.5em;\n  box-sizing: border-box;\n  text-align: center;\n}\n\n#sk-container-id-2 label.sk-toggleable__label-arrow:before {\n  /* Arrow on the left of the label */\n  content: \"▸\";\n  float: left;\n  margin-right: 0.25em;\n  color: var(--sklearn-color-icon);\n}\n\n#sk-container-id-2 label.sk-toggleable__label-arrow:hover:before {\n  color: var(--sklearn-color-text);\n}\n\n/* Toggleable content - dropdown */\n\n#sk-container-id-2 div.sk-toggleable__content {\n  max-height: 0;\n  max-width: 0;\n  overflow: hidden;\n  text-align: left;\n  /* unfitted */\n  background-color: var(--sklearn-color-unfitted-level-0);\n}\n\n#sk-container-id-2 div.sk-toggleable__content.fitted {\n  /* fitted */\n  background-color: var(--sklearn-color-fitted-level-0);\n}\n\n#sk-container-id-2 div.sk-toggleable__content pre {\n  margin: 0.2em;\n  border-radius: 0.25em;\n  color: var(--sklearn-color-text);\n  /* unfitted */\n  background-color: var(--sklearn-color-unfitted-level-0);\n}\n\n#sk-container-id-2 div.sk-toggleable__content.fitted pre {\n  /* unfitted */\n  background-color: var(--sklearn-color-fitted-level-0);\n}\n\n#sk-container-id-2 input.sk-toggleable__control:checked~div.sk-toggleable__content {\n  /* Expand drop-down */\n  max-height: 200px;\n  max-width: 100%;\n  overflow: auto;\n}\n\n#sk-container-id-2 input.sk-toggleable__control:checked~label.sk-toggleable__label-arrow:before {\n  content: \"▾\";\n}\n\n/* Pipeline/ColumnTransformer-specific style */\n\n#sk-container-id-2 div.sk-label input.sk-toggleable__control:checked~label.sk-toggleable__label {\n  color: var(--sklearn-color-text);\n  background-color: var(--sklearn-color-unfitted-level-2);\n}\n\n#sk-container-id-2 div.sk-label.fitted input.sk-toggleable__control:checked~label.sk-toggleable__label {\n  background-color: var(--sklearn-color-fitted-level-2);\n}\n\n/* Estimator-specific style */\n\n/* Colorize estimator box */\n#sk-container-id-2 div.sk-estimator input.sk-toggleable__control:checked~label.sk-toggleable__label {\n  /* unfitted */\n  background-color: var(--sklearn-color-unfitted-level-2);\n}\n\n#sk-container-id-2 div.sk-estimator.fitted input.sk-toggleable__control:checked~label.sk-toggleable__label {\n  /* fitted */\n  background-color: var(--sklearn-color-fitted-level-2);\n}\n\n#sk-container-id-2 div.sk-label label.sk-toggleable__label,\n#sk-container-id-2 div.sk-label label {\n  /* The background is the default theme color */\n  color: var(--sklearn-color-text-on-default-background);\n}\n\n/* On hover, darken the color of the background */\n#sk-container-id-2 div.sk-label:hover label.sk-toggleable__label {\n  color: var(--sklearn-color-text);\n  background-color: var(--sklearn-color-unfitted-level-2);\n}\n\n/* Label box, darken color on hover, fitted */\n#sk-container-id-2 div.sk-label.fitted:hover label.sk-toggleable__label.fitted {\n  color: var(--sklearn-color-text);\n  background-color: var(--sklearn-color-fitted-level-2);\n}\n\n/* Estimator label */\n\n#sk-container-id-2 div.sk-label label {\n  font-family: monospace;\n  font-weight: bold;\n  display: inline-block;\n  line-height: 1.2em;\n}\n\n#sk-container-id-2 div.sk-label-container {\n  text-align: center;\n}\n\n/* Estimator-specific */\n#sk-container-id-2 div.sk-estimator {\n  font-family: monospace;\n  border: 1px dotted var(--sklearn-color-border-box);\n  border-radius: 0.25em;\n  box-sizing: border-box;\n  margin-bottom: 0.5em;\n  /* unfitted */\n  background-color: var(--sklearn-color-unfitted-level-0);\n}\n\n#sk-container-id-2 div.sk-estimator.fitted {\n  /* fitted */\n  background-color: var(--sklearn-color-fitted-level-0);\n}\n\n/* on hover */\n#sk-container-id-2 div.sk-estimator:hover {\n  /* unfitted */\n  background-color: var(--sklearn-color-unfitted-level-2);\n}\n\n#sk-container-id-2 div.sk-estimator.fitted:hover {\n  /* fitted */\n  background-color: var(--sklearn-color-fitted-level-2);\n}\n\n/* Specification for estimator info (e.g. \"i\" and \"?\") */\n\n/* Common style for \"i\" and \"?\" */\n\n.sk-estimator-doc-link,\na:link.sk-estimator-doc-link,\na:visited.sk-estimator-doc-link {\n  float: right;\n  font-size: smaller;\n  line-height: 1em;\n  font-family: monospace;\n  background-color: var(--sklearn-color-background);\n  border-radius: 1em;\n  height: 1em;\n  width: 1em;\n  text-decoration: none !important;\n  margin-left: 1ex;\n  /* unfitted */\n  border: var(--sklearn-color-unfitted-level-1) 1pt solid;\n  color: var(--sklearn-color-unfitted-level-1);\n}\n\n.sk-estimator-doc-link.fitted,\na:link.sk-estimator-doc-link.fitted,\na:visited.sk-estimator-doc-link.fitted {\n  /* fitted */\n  border: var(--sklearn-color-fitted-level-1) 1pt solid;\n  color: var(--sklearn-color-fitted-level-1);\n}\n\n/* On hover */\ndiv.sk-estimator:hover .sk-estimator-doc-link:hover,\n.sk-estimator-doc-link:hover,\ndiv.sk-label-container:hover .sk-estimator-doc-link:hover,\n.sk-estimator-doc-link:hover {\n  /* unfitted */\n  background-color: var(--sklearn-color-unfitted-level-3);\n  color: var(--sklearn-color-background);\n  text-decoration: none;\n}\n\ndiv.sk-estimator.fitted:hover .sk-estimator-doc-link.fitted:hover,\n.sk-estimator-doc-link.fitted:hover,\ndiv.sk-label-container:hover .sk-estimator-doc-link.fitted:hover,\n.sk-estimator-doc-link.fitted:hover {\n  /* fitted */\n  background-color: var(--sklearn-color-fitted-level-3);\n  color: var(--sklearn-color-background);\n  text-decoration: none;\n}\n\n/* Span, style for the box shown on hovering the info icon */\n.sk-estimator-doc-link span {\n  display: none;\n  z-index: 9999;\n  position: relative;\n  font-weight: normal;\n  right: .2ex;\n  padding: .5ex;\n  margin: .5ex;\n  width: min-content;\n  min-width: 20ex;\n  max-width: 50ex;\n  color: var(--sklearn-color-text);\n  box-shadow: 2pt 2pt 4pt #999;\n  /* unfitted */\n  background: var(--sklearn-color-unfitted-level-0);\n  border: .5pt solid var(--sklearn-color-unfitted-level-3);\n}\n\n.sk-estimator-doc-link.fitted span {\n  /* fitted */\n  background: var(--sklearn-color-fitted-level-0);\n  border: var(--sklearn-color-fitted-level-3);\n}\n\n.sk-estimator-doc-link:hover span {\n  display: block;\n}\n\n/* \"?\"-specific style due to the `<a>` HTML tag */\n\n#sk-container-id-2 a.estimator_doc_link {\n  float: right;\n  font-size: 1rem;\n  line-height: 1em;\n  font-family: monospace;\n  background-color: var(--sklearn-color-background);\n  border-radius: 1rem;\n  height: 1rem;\n  width: 1rem;\n  text-decoration: none;\n  /* unfitted */\n  color: var(--sklearn-color-unfitted-level-1);\n  border: var(--sklearn-color-unfitted-level-1) 1pt solid;\n}\n\n#sk-container-id-2 a.estimator_doc_link.fitted {\n  /* fitted */\n  border: var(--sklearn-color-fitted-level-1) 1pt solid;\n  color: var(--sklearn-color-fitted-level-1);\n}\n\n/* On hover */\n#sk-container-id-2 a.estimator_doc_link:hover {\n  /* unfitted */\n  background-color: var(--sklearn-color-unfitted-level-3);\n  color: var(--sklearn-color-background);\n  text-decoration: none;\n}\n\n#sk-container-id-2 a.estimator_doc_link.fitted:hover {\n  /* fitted */\n  background-color: var(--sklearn-color-fitted-level-3);\n}\n</style><div id=\"sk-container-id-2\" class=\"sk-top-container\"><div class=\"sk-text-repr-fallback\"><pre>KNeighborsClassifier()</pre><b>In a Jupyter environment, please rerun this cell to show the HTML representation or trust the notebook. <br />On GitHub, the HTML representation is unable to render, please try loading this page with nbviewer.org.</b></div><div class=\"sk-container\" hidden><div class=\"sk-item\"><div class=\"sk-estimator fitted sk-toggleable\"><input class=\"sk-toggleable__control sk-hidden--visually\" id=\"sk-estimator-id-4\" type=\"checkbox\" checked><label for=\"sk-estimator-id-4\" class=\"sk-toggleable__label fitted sk-toggleable__label-arrow fitted\">&nbsp;&nbsp;KNeighborsClassifier<a class=\"sk-estimator-doc-link fitted\" rel=\"noreferrer\" target=\"_blank\" href=\"https://scikit-learn.org/1.4/modules/generated/sklearn.neighbors.KNeighborsClassifier.html\">?<span>Documentation for KNeighborsClassifier</span></a><span class=\"sk-estimator-doc-link fitted\">i<span>Fitted</span></span></label><div class=\"sk-toggleable__content fitted\"><pre>KNeighborsClassifier()</pre></div> </div></div></div></div>"
     },
     "execution_count": 41,
     "metadata": {},
     "output_type": "execute_result"
    }
   ],
   "source": [
    "clf_gs.best_estimator_"
   ]
  },
  {
   "cell_type": "code",
   "execution_count": 42,
   "id": "4dce266b-ebfe-428b-83fb-a837d5f09d0d",
   "metadata": {
    "ExecuteTime": {
     "end_time": "2024-06-05T13:36:47.162017Z",
     "start_time": "2024-06-05T13:36:46.889420Z"
    }
   },
   "outputs": [
    {
     "data": {
      "text/plain": "0.6933333333333334"
     },
     "execution_count": 42,
     "metadata": {},
     "output_type": "execute_result"
    }
   ],
   "source": [
    "clf_gs.best_score_"
   ]
  },
  {
   "cell_type": "code",
   "execution_count": 43,
   "id": "39b1ddca-3057-44a0-aee7-77c119bd8b62",
   "metadata": {
    "ExecuteTime": {
     "end_time": "2024-06-05T13:36:47.162295Z",
     "start_time": "2024-06-05T13:36:46.915948Z"
    }
   },
   "outputs": [
    {
     "data": {
      "text/plain": "{'n_neighbors': 5}"
     },
     "execution_count": 43,
     "metadata": {},
     "output_type": "execute_result"
    }
   ],
   "source": [
    "clf_gs.best_params_"
   ]
  },
  {
   "cell_type": "code",
   "execution_count": 44,
   "id": "8cc7ca3d-d078-4ea0-aafc-d2dc55455f91",
   "metadata": {
    "ExecuteTime": {
     "end_time": "2024-06-05T13:36:47.451130Z",
     "start_time": "2024-06-05T13:36:46.929785Z"
    }
   },
   "outputs": [
    {
     "data": {
      "text/plain": "[<matplotlib.lines.Line2D at 0x17e108410>]"
     },
     "execution_count": 44,
     "metadata": {},
     "output_type": "execute_result"
    },
    {
     "data": {
      "text/plain": "<Figure size 640x480 with 1 Axes>",
      "image/png": "[encoded data removed]"
     },
     "metadata": {},
     "output_type": "display_data"
    }
   ],
   "source": [
    "plt.plot(n_range, clf_gs.cv_results_['mean_test_score'])"
   ]
  },
  {
   "cell_type": "markdown",
   "id": "b7cc0cc9-d0ae-41cc-a4cf-531d26005d11",
   "metadata": {},
   "source": [
    "## Через RandomizedSearch"
   ]
  },
  {
   "cell_type": "code",
   "execution_count": 45,
   "id": "b044fe70-160e-436c-ac1c-67a3f39517ee",
   "metadata": {
    "ExecuteTime": {
     "end_time": "2024-06-05T13:36:47.576926Z",
     "start_time": "2024-06-05T13:36:47.347325Z"
    }
   },
   "outputs": [],
   "source": [
    "from sklearn.model_selection import RandomizedSearchCV"
   ]
  },
  {
   "cell_type": "code",
   "execution_count": 46,
   "id": "839aecbb-0b8a-41f4-829f-d894b5c5f935",
   "metadata": {
    "ExecuteTime": {
     "end_time": "2024-06-05T13:36:47.678076Z",
     "start_time": "2024-06-05T13:36:47.427584Z"
    }
   },
   "outputs": [
    {
     "name": "stdout",
     "output_type": "stream",
     "text": [
      "CPU times: user 164 ms, sys: 20.3 ms, total: 185 ms\n",
      "Wall time: 261 ms\n"
     ]
    },
    {
     "data": {
      "text/plain": "RandomizedSearchCV(cv=5, estimator=KNeighborsClassifier(),\n                   param_distributions=[{'n_neighbors': array([ 5, 10, 15, 20, 25, 30, 35, 40, 45, 50])}],\n                   scoring='accuracy')",
      "text/html": "<style>#sk-container-id-3 {\n  /* Definition of color scheme common for light and dark mode */\n  --sklearn-color-text: black;\n  --sklearn-color-line: gray;\n  /* Definition of color scheme for unfitted estimators */\n  --sklearn-color-unfitted-level-0: #fff5e6;\n  --sklearn-color-unfitted-level-1: #f6e4d2;\n  --sklearn-color-unfitted-level-2: #ffe0b3;\n  --sklearn-color-unfitted-level-3: chocolate;\n  /* Definition of color scheme for fitted estimators */\n  --sklearn-color-fitted-level-0: #f0f8ff;\n  --sklearn-color-fitted-level-1: #d4ebff;\n  --sklearn-color-fitted-level-2: #b3dbfd;\n  --sklearn-color-fitted-level-3: cornflowerblue;\n\n  /* Specific color for light theme */\n  --sklearn-color-text-on-default-background: var(--sg-text-color, var(--theme-code-foreground, var(--jp-content-font-color1, black)));\n  --sklearn-color-background: var(--sg-background-color, var(--theme-background, var(--jp-layout-color0, white)));\n  --sklearn-color-border-box: var(--sg-text-color, var(--theme-code-foreground, var(--jp-content-font-color1, black)));\n  --sklearn-color-icon: #696969;\n\n  @media (prefers-color-scheme: dark) {\n    /* Redefinition of color scheme for dark theme */\n    --sklearn-color-text-on-default-background: var(--sg-text-color, var(--theme-code-foreground, var(--jp-content-font-color1, white)));\n    --sklearn-color-background: var(--sg-background-color, var(--theme-background, var(--jp-layout-color0, #111)));\n    --sklearn-color-border-box: var(--sg-text-color, var(--theme-code-foreground, var(--jp-content-font-color1, white)));\n    --sklearn-color-icon: #878787;\n  }\n}\n\n#sk-container-id-3 {\n  color: var(--sklearn-color-text);\n}\n\n#sk-container-id-3 pre {\n  padding: 0;\n}\n\n#sk-container-id-3 input.sk-hidden--visually {\n  border: 0;\n  clip: rect(1px 1px 1px 1px);\n  clip: rect(1px, 1px, 1px, 1px);\n  height: 1px;\n  margin: -1px;\n  overflow: hidden;\n  padding: 0;\n  position: absolute;\n  width: 1px;\n}\n\n#sk-container-id-3 div.sk-dashed-wrapped {\n  border: 1px dashed var(--sklearn-color-line);\n  margin: 0 0.4em 0.5em 0.4em;\n  box-sizing: border-box;\n  padding-bottom: 0.4em;\n  background-color: var(--sklearn-color-background);\n}\n\n#sk-container-id-3 div.sk-container {\n  /* jupyter's `normalize.less` sets `[hidden] { display: none; }`\n     but bootstrap.min.css set `[hidden] { display: none !important; }`\n     so we also need the `!important` here to be able to override the\n     default hidden behavior on the sphinx rendered scikit-learn.org.\n     See: https://github.com/scikit-learn/scikit-learn/issues/21755 */\n  display: inline-block !important;\n  position: relative;\n}\n\n#sk-container-id-3 div.sk-text-repr-fallback {\n  display: none;\n}\n\ndiv.sk-parallel-item,\ndiv.sk-serial,\ndiv.sk-item {\n  /* draw centered vertical line to link estimators */\n  background-image: linear-gradient(var(--sklearn-color-text-on-default-background), var(--sklearn-color-text-on-default-background));\n  background-size: 2px 100%;\n  background-repeat: no-repeat;\n  background-position: center center;\n}\n\n/* Parallel-specific style estimator block */\n\n#sk-container-id-3 div.sk-parallel-item::after {\n  content: \"\";\n  width: 100%;\n  border-bottom: 2px solid var(--sklearn-color-text-on-default-background);\n  flex-grow: 1;\n}\n\n#sk-container-id-3 div.sk-parallel {\n  display: flex;\n  align-items: stretch;\n  justify-content: center;\n  background-color: var(--sklearn-color-background);\n  position: relative;\n}\n\n#sk-container-id-3 div.sk-parallel-item {\n  display: flex;\n  flex-direction: column;\n}\n\n#sk-container-id-3 div.sk-parallel-item:first-child::after {\n  align-self: flex-end;\n  width: 50%;\n}\n\n#sk-container-id-3 div.sk-parallel-item:last-child::after {\n  align-self: flex-start;\n  width: 50%;\n}\n\n#sk-container-id-3 div.sk-parallel-item:only-child::after {\n  width: 0;\n}\n\n/* Serial-specific style estimator block */\n\n#sk-container-id-3 div.sk-serial {\n  display: flex;\n  flex-direction: column;\n  align-items: center;\n  background-color: var(--sklearn-color-background);\n  padding-right: 1em;\n  padding-left: 1em;\n}\n\n\n/* Toggleable style: style used for estimator/Pipeline/ColumnTransformer box that is\nclickable and can be expanded/collapsed.\n- Pipeline and ColumnTransformer use this feature and define the default style\n- Estimators will overwrite some part of the style using the `sk-estimator` class\n*/\n\n/* Pipeline and ColumnTransformer style (default) */\n\n#sk-container-id-3 div.sk-toggleable {\n  /* Default theme specific background. It is overwritten whether we have a\n  specific estimator or a Pipeline/ColumnTransformer */\n  background-color: var(--sklearn-color-background);\n}\n\n/* Toggleable label */\n#sk-container-id-3 label.sk-toggleable__label {\n  cursor: pointer;\n  display: block;\n  width: 100%;\n  margin-bottom: 0;\n  padding: 0.5em;\n  box-sizing: border-box;\n  text-align: center;\n}\n\n#sk-container-id-3 label.sk-toggleable__label-arrow:before {\n  /* Arrow on the left of the label */\n  content: \"▸\";\n  float: left;\n  margin-right: 0.25em;\n  color: var(--sklearn-color-icon);\n}\n\n#sk-container-id-3 label.sk-toggleable__label-arrow:hover:before {\n  color: var(--sklearn-color-text);\n}\n\n/* Toggleable content - dropdown */\n\n#sk-container-id-3 div.sk-toggleable__content {\n  max-height: 0;\n  max-width: 0;\n  overflow: hidden;\n  text-align: left;\n  /* unfitted */\n  background-color: var(--sklearn-color-unfitted-level-0);\n}\n\n#sk-container-id-3 div.sk-toggleable__content.fitted {\n  /* fitted */\n  background-color: var(--sklearn-color-fitted-level-0);\n}\n\n#sk-container-id-3 div.sk-toggleable__content pre {\n  margin: 0.2em;\n  border-radius: 0.25em;\n  color: var(--sklearn-color-text);\n  /* unfitted */\n  background-color: var(--sklearn-color-unfitted-level-0);\n}\n\n#sk-container-id-3 div.sk-toggleable__content.fitted pre {\n  /* unfitted */\n  background-color: var(--sklearn-color-fitted-level-0);\n}\n\n#sk-container-id-3 input.sk-toggleable__control:checked~div.sk-toggleable__content {\n  /* Expand drop-down */\n  max-height: 200px;\n  max-width: 100%;\n  overflow: auto;\n}\n\n#sk-container-id-3 input.sk-toggleable__control:checked~label.sk-toggleable__label-arrow:before {\n  content: \"▾\";\n}\n\n/* Pipeline/ColumnTransformer-specific style */\n\n#sk-container-id-3 div.sk-label input.sk-toggleable__control:checked~label.sk-toggleable__label {\n  color: var(--sklearn-color-text);\n  background-color: var(--sklearn-color-unfitted-level-2);\n}\n\n#sk-container-id-3 div.sk-label.fitted input.sk-toggleable__control:checked~label.sk-toggleable__label {\n  background-color: var(--sklearn-color-fitted-level-2);\n}\n\n/* Estimator-specific style */\n\n/* Colorize estimator box */\n#sk-container-id-3 div.sk-estimator input.sk-toggleable__control:checked~label.sk-toggleable__label {\n  /* unfitted */\n  background-color: var(--sklearn-color-unfitted-level-2);\n}\n\n#sk-container-id-3 div.sk-estimator.fitted input.sk-toggleable__control:checked~label.sk-toggleable__label {\n  /* fitted */\n  background-color: var(--sklearn-color-fitted-level-2);\n}\n\n#sk-container-id-3 div.sk-label label.sk-toggleable__label,\n#sk-container-id-3 div.sk-label label {\n  /* The background is the default theme color */\n  color: var(--sklearn-color-text-on-default-background);\n}\n\n/* On hover, darken the color of the background */\n#sk-container-id-3 div.sk-label:hover label.sk-toggleable__label {\n  color: var(--sklearn-color-text);\n  background-color: var(--sklearn-color-unfitted-level-2);\n}\n\n/* Label box, darken color on hover, fitted */\n#sk-container-id-3 div.sk-label.fitted:hover label.sk-toggleable__label.fitted {\n  color: var(--sklearn-color-text);\n  background-color: var(--sklearn-color-fitted-level-2);\n}\n\n/* Estimator label */\n\n#sk-container-id-3 div.sk-label label {\n  font-family: monospace;\n  font-weight: bold;\n  display: inline-block;\n  line-height: 1.2em;\n}\n\n#sk-container-id-3 div.sk-label-container {\n  text-align: center;\n}\n\n/* Estimator-specific */\n#sk-container-id-3 div.sk-estimator {\n  font-family: monospace;\n  border: 1px dotted var(--sklearn-color-border-box);\n  border-radius: 0.25em;\n  box-sizing: border-box;\n  margin-bottom: 0.5em;\n  /* unfitted */\n  background-color: var(--sklearn-color-unfitted-level-0);\n}\n\n#sk-container-id-3 div.sk-estimator.fitted {\n  /* fitted */\n  background-color: var(--sklearn-color-fitted-level-0);\n}\n\n/* on hover */\n#sk-container-id-3 div.sk-estimator:hover {\n  /* unfitted */\n  background-color: var(--sklearn-color-unfitted-level-2);\n}\n\n#sk-container-id-3 div.sk-estimator.fitted:hover {\n  /* fitted */\n  background-color: var(--sklearn-color-fitted-level-2);\n}\n\n/* Specification for estimator info (e.g. \"i\" and \"?\") */\n\n/* Common style for \"i\" and \"?\" */\n\n.sk-estimator-doc-link,\na:link.sk-estimator-doc-link,\na:visited.sk-estimator-doc-link {\n  float: right;\n  font-size: smaller;\n  line-height: 1em;\n  font-family: monospace;\n  background-color: var(--sklearn-color-background);\n  border-radius: 1em;\n  height: 1em;\n  width: 1em;\n  text-decoration: none !important;\n  margin-left: 1ex;\n  /* unfitted */\n  border: var(--sklearn-color-unfitted-level-1) 1pt solid;\n  color: var(--sklearn-color-unfitted-level-1);\n}\n\n.sk-estimator-doc-link.fitted,\na:link.sk-estimator-doc-link.fitted,\na:visited.sk-estimator-doc-link.fitted {\n  /* fitted */\n  border: var(--sklearn-color-fitted-level-1) 1pt solid;\n  color: var(--sklearn-color-fitted-level-1);\n}\n\n/* On hover */\ndiv.sk-estimator:hover .sk-estimator-doc-link:hover,\n.sk-estimator-doc-link:hover,\ndiv.sk-label-container:hover .sk-estimator-doc-link:hover,\n.sk-estimator-doc-link:hover {\n  /* unfitted */\n  background-color: var(--sklearn-color-unfitted-level-3);\n  color: var(--sklearn-color-background);\n  text-decoration: none;\n}\n\ndiv.sk-estimator.fitted:hover .sk-estimator-doc-link.fitted:hover,\n.sk-estimator-doc-link.fitted:hover,\ndiv.sk-label-container:hover .sk-estimator-doc-link.fitted:hover,\n.sk-estimator-doc-link.fitted:hover {\n  /* fitted */\n  background-color: var(--sklearn-color-fitted-level-3);\n  color: var(--sklearn-color-background);\n  text-decoration: none;\n}\n\n/* Span, style for the box shown on hovering the info icon */\n.sk-estimator-doc-link span {\n  display: none;\n  z-index: 9999;\n  position: relative;\n  font-weight: normal;\n  right: .2ex;\n  padding: .5ex;\n  margin: .5ex;\n  width: min-content;\n  min-width: 20ex;\n  max-width: 50ex;\n  color: var(--sklearn-color-text);\n  box-shadow: 2pt 2pt 4pt #999;\n  /* unfitted */\n  background: var(--sklearn-color-unfitted-level-0);\n  border: .5pt solid var(--sklearn-color-unfitted-level-3);\n}\n\n.sk-estimator-doc-link.fitted span {\n  /* fitted */\n  background: var(--sklearn-color-fitted-level-0);\n  border: var(--sklearn-color-fitted-level-3);\n}\n\n.sk-estimator-doc-link:hover span {\n  display: block;\n}\n\n/* \"?\"-specific style due to the `<a>` HTML tag */\n\n#sk-container-id-3 a.estimator_doc_link {\n  float: right;\n  font-size: 1rem;\n  line-height: 1em;\n  font-family: monospace;\n  background-color: var(--sklearn-color-background);\n  border-radius: 1rem;\n  height: 1rem;\n  width: 1rem;\n  text-decoration: none;\n  /* unfitted */\n  color: var(--sklearn-color-unfitted-level-1);\n  border: var(--sklearn-color-unfitted-level-1) 1pt solid;\n}\n\n#sk-container-id-3 a.estimator_doc_link.fitted {\n  /* fitted */\n  border: var(--sklearn-color-fitted-level-1) 1pt solid;\n  color: var(--sklearn-color-fitted-level-1);\n}\n\n/* On hover */\n#sk-container-id-3 a.estimator_doc_link:hover {\n  /* unfitted */\n  background-color: var(--sklearn-color-unfitted-level-3);\n  color: var(--sklearn-color-background);\n  text-decoration: none;\n}\n\n#sk-container-id-3 a.estimator_doc_link.fitted:hover {\n  /* fitted */\n  background-color: var(--sklearn-color-fitted-level-3);\n}\n</style><div id=\"sk-container-id-3\" class=\"sk-top-container\"><div class=\"sk-text-repr-fallback\"><pre>RandomizedSearchCV(cv=5, estimator=KNeighborsClassifier(),\n                   param_distributions=[{&#x27;n_neighbors&#x27;: array([ 5, 10, 15, 20, 25, 30, 35, 40, 45, 50])}],\n                   scoring=&#x27;accuracy&#x27;)</pre><b>In a Jupyter environment, please rerun this cell to show the HTML representation or trust the notebook. <br />On GitHub, the HTML representation is unable to render, please try loading this page with nbviewer.org.</b></div><div class=\"sk-container\" hidden><div class=\"sk-item sk-dashed-wrapped\"><div class=\"sk-label-container\"><div class=\"sk-label fitted sk-toggleable\"><input class=\"sk-toggleable__control sk-hidden--visually\" id=\"sk-estimator-id-5\" type=\"checkbox\" ><label for=\"sk-estimator-id-5\" class=\"sk-toggleable__label fitted sk-toggleable__label-arrow fitted\">&nbsp;&nbsp;RandomizedSearchCV<a class=\"sk-estimator-doc-link fitted\" rel=\"noreferrer\" target=\"_blank\" href=\"https://scikit-learn.org/1.4/modules/generated/sklearn.model_selection.RandomizedSearchCV.html\">?<span>Documentation for RandomizedSearchCV</span></a><span class=\"sk-estimator-doc-link fitted\">i<span>Fitted</span></span></label><div class=\"sk-toggleable__content fitted\"><pre>RandomizedSearchCV(cv=5, estimator=KNeighborsClassifier(),\n                   param_distributions=[{&#x27;n_neighbors&#x27;: array([ 5, 10, 15, 20, 25, 30, 35, 40, 45, 50])}],\n                   scoring=&#x27;accuracy&#x27;)</pre></div> </div></div><div class=\"sk-parallel\"><div class=\"sk-parallel-item\"><div class=\"sk-item\"><div class=\"sk-label-container\"><div class=\"sk-label fitted sk-toggleable\"><input class=\"sk-toggleable__control sk-hidden--visually\" id=\"sk-estimator-id-6\" type=\"checkbox\" ><label for=\"sk-estimator-id-6\" class=\"sk-toggleable__label fitted sk-toggleable__label-arrow fitted\">estimator: KNeighborsClassifier</label><div class=\"sk-toggleable__content fitted\"><pre>KNeighborsClassifier()</pre></div> </div></div><div class=\"sk-serial\"><div class=\"sk-item\"><div class=\"sk-estimator fitted sk-toggleable\"><input class=\"sk-toggleable__control sk-hidden--visually\" id=\"sk-estimator-id-7\" type=\"checkbox\" ><label for=\"sk-estimator-id-7\" class=\"sk-toggleable__label fitted sk-toggleable__label-arrow fitted\">&nbsp;KNeighborsClassifier<a class=\"sk-estimator-doc-link fitted\" rel=\"noreferrer\" target=\"_blank\" href=\"https://scikit-learn.org/1.4/modules/generated/sklearn.neighbors.KNeighborsClassifier.html\">?<span>Documentation for KNeighborsClassifier</span></a></label><div class=\"sk-toggleable__content fitted\"><pre>KNeighborsClassifier()</pre></div> </div></div></div></div></div></div></div></div></div>"
     },
     "execution_count": 46,
     "metadata": {},
     "output_type": "execute_result"
    }
   ],
   "source": [
    "%%time\n",
    "clf_rs = RandomizedSearchCV(KNeighborsClassifier(), tuned_parameters, cv=5, scoring='accuracy')\n",
    "clf_rs.fit(X_train, y_train)"
   ]
  },
  {
   "cell_type": "code",
   "execution_count": 47,
   "id": "255cffae-e376-4ad1-9765-84c53bb73b31",
   "metadata": {
    "ExecuteTime": {
     "end_time": "2024-06-05T13:36:47.680344Z",
     "start_time": "2024-06-05T13:36:47.627064Z"
    }
   },
   "outputs": [
    {
     "data": {
      "text/plain": "(0.6933333333333334, {'n_neighbors': 5})"
     },
     "execution_count": 47,
     "metadata": {},
     "output_type": "execute_result"
    }
   ],
   "source": [
    "clf_rs.best_score_, clf_rs.best_params_"
   ]
  },
  {
   "cell_type": "code",
   "execution_count": 48,
   "id": "a43f4111-766d-4574-acee-748ad10b97fb",
   "metadata": {
    "ExecuteTime": {
     "end_time": "2024-06-05T13:36:47.854942Z",
     "start_time": "2024-06-05T13:36:47.640875Z"
    }
   },
   "outputs": [
    {
     "data": {
      "text/plain": "[<matplotlib.lines.Line2D at 0x17dce6410>]"
     },
     "execution_count": 48,
     "metadata": {},
     "output_type": "execute_result"
    },
    {
     "data": {
      "text/plain": "<Figure size 640x480 with 1 Axes>",
      "image/png": "[encoded data removed]"
     },
     "metadata": {},
     "output_type": "display_data"
    }
   ],
   "source": [
    "plt.plot(n_range, clf_rs.cv_results_['mean_test_score'])"
   ]
  },
  {
   "cell_type": "markdown",
   "id": "1e7c26b7-0ec4-4e7f-b302-d313c18b10c0",
   "metadata": {},
   "source": [
    "# Построение оптимальной модели"
   ]
  },
  {
   "cell_type": "code",
   "execution_count": 49,
   "id": "c30161b8-6a7a-490a-ad1b-ce15e7f055e1",
   "metadata": {
    "ExecuteTime": {
     "end_time": "2024-06-05T13:36:47.859949Z",
     "start_time": "2024-06-05T13:36:47.728598Z"
    }
   },
   "outputs": [
    {
     "data": {
      "text/plain": "(50,\n array([0, 4, 4, 2, 1, 2, 0, 2, 0, 3, 0, 2, 0, 0, 3, 0, 2, 2, 2, 2, 2, 0,\n        0, 0, 2, 2, 0, 0, 1, 2, 2, 4, 2, 0, 2, 2, 0, 2, 2, 2, 3, 0, 2, 0,\n        1, 0, 0, 0, 0, 0]))"
     },
     "execution_count": 49,
     "metadata": {},
     "output_type": "execute_result"
    }
   ],
   "source": [
    "clf_o = KNeighborsClassifier(n_neighbors=5)\n",
    "clf_o.fit(X_train, y_train)\n",
    "target_o = clf_o.predict(X_test)\n",
    "len(target_o), target_o"
   ]
  },
  {
   "cell_type": "markdown",
   "id": "60e576c8-beea-4530-9f4d-e00cf805f687",
   "metadata": {},
   "source": [
    "# Оценка качества исходной и оптимальной модели"
   ]
  },
  {
   "cell_type": "code",
   "execution_count": 50,
   "id": "19d3f269-3e3e-4563-a317-e14322eb5df3",
   "metadata": {
    "ExecuteTime": {
     "end_time": "2024-06-05T13:36:47.863265Z",
     "start_time": "2024-06-05T13:36:47.738620Z"
    }
   },
   "outputs": [],
   "source": [
    "from sklearn.metrics import accuracy_score, balanced_accuracy_score"
   ]
  },
  {
   "cell_type": "markdown",
   "id": "26d46d1c-f56d-4d6d-9150-6ec37658773a",
   "metadata": {},
   "source": [
    "## Метрика Accuracy"
   ]
  },
  {
   "cell_type": "code",
   "execution_count": 51,
   "id": "c653a04d-8d6d-45fd-8985-4d893361b45e",
   "metadata": {
    "ExecuteTime": {
     "end_time": "2024-06-05T13:36:47.873121Z",
     "start_time": "2024-06-05T13:36:47.746392Z"
    }
   },
   "outputs": [
    {
     "data": {
      "text/plain": "0.58"
     },
     "execution_count": 51,
     "metadata": {},
     "output_type": "execute_result"
    }
   ],
   "source": [
    "accuracy_score(y_test, target_i)"
   ]
  },
  {
   "cell_type": "code",
   "execution_count": 52,
   "id": "876dc9c2-9e78-42dd-aa0f-1c63bc94155a",
   "metadata": {
    "ExecuteTime": {
     "end_time": "2024-06-05T13:36:47.949267Z",
     "start_time": "2024-06-05T13:36:47.755640Z"
    }
   },
   "outputs": [
    {
     "data": {
      "text/plain": "0.62"
     },
     "execution_count": 52,
     "metadata": {},
     "output_type": "execute_result"
    }
   ],
   "source": [
    "accuracy_score(y_test, target_o)"
   ]
  },
  {
   "cell_type": "code",
   "execution_count": 53,
   "id": "1af108ac-d9d4-4ea9-b0cf-db9f71c17c32",
   "metadata": {
    "ExecuteTime": {
     "end_time": "2024-06-05T13:36:47.951657Z",
     "start_time": "2024-06-05T13:36:47.772793Z"
    }
   },
   "outputs": [],
   "source": [
    "def accuracy_score_for_types(\n",
    "    y_true: np.ndarray, \n",
    "    y_pred: np.ndarray) -> Dict[int, float]:\n",
    "    d = {'t': y_true, 'p': y_pred}\n",
    "    df = pd.DataFrame(data=d)\n",
    "    types = np.unique(y_true)\n",
    "    res = dict()\n",
    "    for t in types:\n",
    "        temp_data_flt = df[df['t']==t]\n",
    "        temp_acc = accuracy_score(\n",
    "            temp_data_flt['t'].values, \n",
    "            temp_data_flt['p'].values)\n",
    "        res[t] = temp_acc\n",
    "    return res\n",
    "\n",
    "def print_accuracy_score_for_types(\n",
    "    y_true: np.ndarray, \n",
    "    y_pred: np.ndarray):\n",
    "    accs = accuracy_score_for_types(y_true, y_pred)\n",
    "    if len(accs)>0:\n",
    "        print('Тип \\t Accuracy')\n",
    "    for i in accs:\n",
    "        print('{} \\t {}'.format(i, accs[i]))"
   ]
  },
  {
   "cell_type": "code",
   "execution_count": 54,
   "id": "58f7e621-9464-4abc-b73d-bbb55aba97b9",
   "metadata": {
    "ExecuteTime": {
     "end_time": "2024-06-05T13:36:47.960251Z",
     "start_time": "2024-06-05T13:36:47.790492Z"
    }
   },
   "outputs": [
    {
     "name": "stdout",
     "output_type": "stream",
     "text": [
      "Тип \t Accuracy\n",
      "0 \t 0.9444444444444444\n",
      "1 \t 0.0\n",
      "2 \t 0.6470588235294118\n",
      "3 \t 0.0\n",
      "4 \t 0.25\n"
     ]
    }
   ],
   "source": [
    "print_accuracy_score_for_types(y_test, target_i)"
   ]
  },
  {
   "cell_type": "code",
   "execution_count": 55,
   "id": "bc17b593-2526-4bcf-b80f-5d4edc1e5d7f",
   "metadata": {
    "ExecuteTime": {
     "end_time": "2024-06-05T13:36:47.986030Z",
     "start_time": "2024-06-05T13:36:47.816161Z"
    }
   },
   "outputs": [
    {
     "name": "stdout",
     "output_type": "stream",
     "text": [
      "Тип \t Accuracy\n",
      "0 \t 1.0\n",
      "1 \t 0.0\n",
      "2 \t 0.6470588235294118\n",
      "3 \t 0.3333333333333333\n",
      "4 \t 0.0\n"
     ]
    }
   ],
   "source": [
    "print_accuracy_score_for_types(y_test, target_o)"
   ]
  },
  {
   "cell_type": "markdown",
   "id": "2b351008-b2f5-4df8-aeea-3520a659de31",
   "metadata": {},
   "source": [
    "## Метрика balanced_accuracy_score"
   ]
  },
  {
   "cell_type": "code",
   "execution_count": 56,
   "id": "332a9882-b1df-4768-8c49-e2210ea9ca78",
   "metadata": {
    "ExecuteTime": {
     "end_time": "2024-06-05T13:36:47.987198Z",
     "start_time": "2024-06-05T13:36:47.831544Z"
    }
   },
   "outputs": [],
   "source": [
    "def convert_target_to_binary(array:np.ndarray, target:int) -> np.ndarray:\n",
    "    res = [1 if x==target else 0 for x in array]\n",
    "    return res"
   ]
  },
  {
   "cell_type": "code",
   "execution_count": 57,
   "id": "d0fbc5e4-a7cc-4932-9df7-db7502134f03",
   "metadata": {
    "ExecuteTime": {
     "end_time": "2024-06-05T13:36:47.995331Z",
     "start_time": "2024-06-05T13:36:47.840311Z"
    }
   },
   "outputs": [
    {
     "data": {
      "text/plain": "[(4, 0),\n (2, 1),\n (0, 0),\n (2, 1),\n (0, 0),\n (0, 0),\n (3, 0),\n (2, 1),\n (0, 0),\n (2, 1)]"
     },
     "execution_count": 57,
     "metadata": {},
     "output_type": "execute_result"
    }
   ],
   "source": [
    "bin_y_train = convert_target_to_binary(y_train, 2)\n",
    "list(zip(y_train, bin_y_train))[:10]"
   ]
  },
  {
   "cell_type": "code",
   "execution_count": 58,
   "id": "62ba1b93-78d8-4214-81f1-ec46237df069",
   "metadata": {
    "ExecuteTime": {
     "end_time": "2024-06-05T13:36:47.997929Z",
     "start_time": "2024-06-05T13:36:47.849079Z"
    }
   },
   "outputs": [
    {
     "data": {
      "text/plain": "[(0, 0),\n (2, 1),\n (2, 1),\n (2, 1),\n (2, 1),\n (1, 0),\n (0, 0),\n (3, 0),\n (4, 0),\n (3, 0)]"
     },
     "execution_count": 58,
     "metadata": {},
     "output_type": "execute_result"
    }
   ],
   "source": [
    "bin_y_test = convert_target_to_binary(y_test, 2)\n",
    "list(zip(y_test, bin_y_test))[:10]"
   ]
  },
  {
   "cell_type": "code",
   "execution_count": 59,
   "id": "b635f760-317d-46ca-b18e-818870a9c46c",
   "metadata": {
    "ExecuteTime": {
     "end_time": "2024-06-05T13:36:47.998159Z",
     "start_time": "2024-06-05T13:36:47.859548Z"
    }
   },
   "outputs": [],
   "source": [
    "bin_target_i = convert_target_to_binary(target_i, 2)"
   ]
  },
  {
   "cell_type": "code",
   "execution_count": 60,
   "id": "769d63fc-dafd-420b-b48d-fc448a9a40cf",
   "metadata": {
    "ExecuteTime": {
     "end_time": "2024-06-05T13:36:48.040849Z",
     "start_time": "2024-06-05T13:36:47.865126Z"
    }
   },
   "outputs": [
    {
     "data": {
      "text/plain": "0.6265597147950089"
     },
     "execution_count": 60,
     "metadata": {},
     "output_type": "execute_result"
    }
   ],
   "source": [
    "balanced_accuracy_score(bin_y_test, bin_target_i)"
   ]
  },
  {
   "cell_type": "code",
   "execution_count": 61,
   "id": "e500ceca-ee3d-4c65-82c1-da9dbf369904",
   "metadata": {
    "ExecuteTime": {
     "end_time": "2024-06-05T13:36:48.199285Z",
     "start_time": "2024-06-05T13:36:47.980349Z"
    }
   },
   "outputs": [],
   "source": [
    "bin_target_o = convert_target_to_binary(target_o, 2)"
   ]
  },
  {
   "cell_type": "code",
   "execution_count": 62,
   "id": "db73805a-9d5a-4e4f-817e-640d89d49ed2",
   "metadata": {
    "ExecuteTime": {
     "end_time": "2024-06-05T13:36:48.296675Z",
     "start_time": "2024-06-05T13:36:48.147180Z"
    }
   },
   "outputs": [
    {
     "data": {
      "text/plain": "0.6871657754010696"
     },
     "execution_count": 62,
     "metadata": {},
     "output_type": "execute_result"
    }
   ],
   "source": [
    "balanced_accuracy_score(bin_y_test, bin_target_o)"
   ]
  },
  {
   "cell_type": "markdown",
   "id": "41ff2e00-d54f-4e31-8acd-aa9706b8baf2",
   "metadata": {},
   "source": [
    "## Метрика \"Матрица ошибок\""
   ]
  },
  {
   "cell_type": "code",
   "execution_count": 63,
   "id": "65a1505f-d6f4-4630-b01c-1b20dffb3cb1",
   "metadata": {
    "ExecuteTime": {
     "end_time": "2024-06-05T13:36:48.326200Z",
     "start_time": "2024-06-05T13:36:48.262626Z"
    }
   },
   "outputs": [],
   "source": [
    "from sklearn.metrics import ConfusionMatrixDisplay\n",
    "from sklearn.metrics import confusion_matrix"
   ]
  },
  {
   "cell_type": "code",
   "execution_count": 64,
   "id": "9d1f30f6-82a4-4583-ac77-2ace5b7db4ae",
   "metadata": {
    "ExecuteTime": {
     "end_time": "2024-06-05T13:36:48.403859Z",
     "start_time": "2024-06-05T13:36:48.328189Z"
    }
   },
   "outputs": [
    {
     "data": {
      "text/plain": "array([[17,  0,  1,  0,  0,  0,  0,  0],\n       [ 0,  0,  4,  0,  1,  0,  0,  0],\n       [ 2,  2, 11,  0,  2,  0,  0,  0],\n       [ 0,  0,  6,  0,  0,  0,  0,  0],\n       [ 1,  0,  2,  0,  1,  0,  0,  0],\n       [ 0,  0,  0,  0,  0,  0,  0,  0],\n       [ 0,  0,  0,  0,  0,  0,  0,  0],\n       [ 0,  0,  0,  0,  0,  0,  0,  0]])"
     },
     "execution_count": 64,
     "metadata": {},
     "output_type": "execute_result"
    }
   ],
   "source": [
    "confusion_matrix(y_test, target_i, labels=[0, 1, 2, 3, 4, 5, 6, 7])"
   ]
  },
  {
   "cell_type": "code",
   "execution_count": 65,
   "id": "c3fc0b15-a8cd-45dd-a661-4461f293f43d",
   "metadata": {
    "ExecuteTime": {
     "end_time": "2024-06-05T13:36:48.618584Z",
     "start_time": "2024-06-05T13:36:48.388504Z"
    }
   },
   "outputs": [
    {
     "data": {
      "text/plain": "<sklearn.metrics._plot.confusion_matrix.ConfusionMatrixDisplay at 0x17e222bd0>"
     },
     "execution_count": 65,
     "metadata": {},
     "output_type": "execute_result"
    },
    {
     "data": {
      "text/plain": "<Figure size 640x480 with 2 Axes>",
      "image/png": "[encoded data removed]"
     },
     "metadata": {},
     "output_type": "display_data"
    }
   ],
   "source": [
    "ConfusionMatrixDisplay.from_estimator(\n",
    "        clf_i,\n",
    "        X_test,\n",
    "        y_test,\n",
    "        display_labels=clf_i.classes_,\n",
    "        cmap=plt.cm.Blues,\n",
    "        normalize='true',\n",
    "    )"
   ]
  },
  {
   "cell_type": "code",
   "execution_count": 66,
   "id": "b17e750c-e8a2-4cc1-ab24-b36a2f2ce65f",
   "metadata": {
    "ExecuteTime": {
     "end_time": "2024-06-05T13:36:48.626560Z",
     "start_time": "2024-06-05T13:36:48.589828Z"
    }
   },
   "outputs": [
    {
     "data": {
      "text/plain": "array([[18,  0,  0,  0,  0,  0,  0,  0],\n       [ 0,  0,  4,  0,  1,  0,  0,  0],\n       [ 2,  1, 11,  1,  2,  0,  0,  0],\n       [ 0,  2,  2,  2,  0,  0,  0,  0],\n       [ 1,  0,  3,  0,  0,  0,  0,  0],\n       [ 0,  0,  0,  0,  0,  0,  0,  0],\n       [ 0,  0,  0,  0,  0,  0,  0,  0],\n       [ 0,  0,  0,  0,  0,  0,  0,  0]])"
     },
     "execution_count": 66,
     "metadata": {},
     "output_type": "execute_result"
    }
   ],
   "source": [
    "confusion_matrix(y_test, target_o, labels=[0, 1, 2, 3, 4, 5, 6, 7])"
   ]
  },
  {
   "cell_type": "code",
   "execution_count": 67,
   "id": "f0b7f307-bf09-444b-afac-bfa3e40fba39",
   "metadata": {
    "ExecuteTime": {
     "end_time": "2024-06-05T13:36:48.760270Z",
     "start_time": "2024-06-05T13:36:48.601990Z"
    }
   },
   "outputs": [
    {
     "data": {
      "text/plain": "<sklearn.metrics._plot.confusion_matrix.ConfusionMatrixDisplay at 0x17e2da690>"
     },
     "execution_count": 67,
     "metadata": {},
     "output_type": "execute_result"
    },
    {
     "data": {
      "text/plain": "<Figure size 640x480 with 2 Axes>",
      "image/png": "[encoded data removed]"
     },
     "metadata": {},
     "output_type": "display_data"
    }
   ],
   "source": [
    "ConfusionMatrixDisplay.from_estimator(\n",
    "        clf_o,\n",
    "        X_test,\n",
    "        y_test,\n",
    "        display_labels=clf_o.classes_,\n",
    "        cmap=plt.cm.Blues,\n",
    "        normalize='true',\n",
    "    )"
   ]
  },
  {
   "cell_type": "markdown",
   "id": "13cccb5d-723d-45cf-b0b7-8560a43e28e7",
   "metadata": {},
   "source": [
    "## Метрика Precision"
   ]
  },
  {
   "cell_type": "code",
   "execution_count": 68,
   "id": "a6b8cc88-7197-4841-a559-55a41aa2039a",
   "metadata": {
    "ExecuteTime": {
     "end_time": "2024-06-05T13:36:48.860761Z",
     "start_time": "2024-06-05T13:36:48.736832Z"
    }
   },
   "outputs": [],
   "source": [
    "from sklearn.metrics import precision_score"
   ]
  },
  {
   "cell_type": "code",
   "execution_count": 69,
   "id": "a73fd1db-924f-4f8c-96ae-7398457d79dd",
   "metadata": {
    "ExecuteTime": {
     "end_time": "2024-06-05T13:36:48.862930Z",
     "start_time": "2024-06-05T13:36:48.748184Z"
    }
   },
   "outputs": [
    {
     "data": {
      "text/plain": "0.4583333333333333"
     },
     "execution_count": 69,
     "metadata": {},
     "output_type": "execute_result"
    }
   ],
   "source": [
    "precision_score(bin_y_test, bin_target_i)"
   ]
  },
  {
   "cell_type": "code",
   "execution_count": 70,
   "id": "06fb99fd-5fbc-4056-9d42-2320ef36fa28",
   "metadata": {
    "ExecuteTime": {
     "end_time": "2024-06-05T13:36:48.896795Z",
     "start_time": "2024-06-05T13:36:48.759951Z"
    }
   },
   "outputs": [
    {
     "data": {
      "text/plain": "0.55"
     },
     "execution_count": 70,
     "metadata": {},
     "output_type": "execute_result"
    }
   ],
   "source": [
    "precision_score(bin_y_test, bin_target_o)"
   ]
  },
  {
   "cell_type": "markdown",
   "id": "99d1ae9d-ed34-47f2-beaa-561a0195cde4",
   "metadata": {},
   "source": [
    "## Метрика Recall"
   ]
  },
  {
   "cell_type": "code",
   "execution_count": 71,
   "id": "2cb130b2-ebee-42c6-a89b-13a068c5560a",
   "metadata": {
    "ExecuteTime": {
     "end_time": "2024-06-05T13:36:48.907558Z",
     "start_time": "2024-06-05T13:36:48.780029Z"
    }
   },
   "outputs": [],
   "source": [
    "from sklearn.metrics import recall_score"
   ]
  },
  {
   "cell_type": "code",
   "execution_count": 72,
   "id": "800981ac-0c9a-46a4-a0f0-ab9651f3e9ed",
   "metadata": {
    "ExecuteTime": {
     "end_time": "2024-06-05T13:36:48.910526Z",
     "start_time": "2024-06-05T13:36:48.790549Z"
    }
   },
   "outputs": [
    {
     "data": {
      "text/plain": "0.6470588235294118"
     },
     "execution_count": 72,
     "metadata": {},
     "output_type": "execute_result"
    }
   ],
   "source": [
    "recall_score(bin_y_test, bin_target_i)"
   ]
  },
  {
   "cell_type": "code",
   "execution_count": 73,
   "id": "da3bc522-f7ea-45f2-81e8-99bf11a113af",
   "metadata": {
    "ExecuteTime": {
     "end_time": "2024-06-05T13:36:48.912835Z",
     "start_time": "2024-06-05T13:36:48.806551Z"
    }
   },
   "outputs": [
    {
     "data": {
      "text/plain": "0.6470588235294118"
     },
     "execution_count": 73,
     "metadata": {},
     "output_type": "execute_result"
    }
   ],
   "source": [
    "recall_score(bin_y_test, bin_target_o)"
   ]
  },
  {
   "cell_type": "markdown",
   "id": "1098282e-8d68-4cc4-b361-afb830949594",
   "metadata": {},
   "source": [
    "## Метрика F1-мера"
   ]
  },
  {
   "cell_type": "code",
   "execution_count": 74,
   "id": "2c73f538-f4ae-478b-85ae-cad22affbfbc",
   "metadata": {
    "ExecuteTime": {
     "end_time": "2024-06-05T13:36:48.914781Z",
     "start_time": "2024-06-05T13:36:48.814869Z"
    }
   },
   "outputs": [],
   "source": [
    "from sklearn.metrics import f1_score"
   ]
  },
  {
   "cell_type": "code",
   "execution_count": 75,
   "id": "165d6980-9e45-4c61-8a4d-57886d5b559f",
   "metadata": {
    "ExecuteTime": {
     "end_time": "2024-06-05T13:36:49.007939Z",
     "start_time": "2024-06-05T13:36:48.882008Z"
    }
   },
   "outputs": [
    {
     "data": {
      "text/plain": "0.5365853658536586"
     },
     "execution_count": 75,
     "metadata": {},
     "output_type": "execute_result"
    }
   ],
   "source": [
    "f1_score(bin_y_test, bin_target_i)"
   ]
  },
  {
   "cell_type": "code",
   "execution_count": 76,
   "id": "39751b26-eb2c-48c8-95a2-e5990e176c72",
   "metadata": {
    "ExecuteTime": {
     "end_time": "2024-06-05T13:36:49.051189Z",
     "start_time": "2024-06-05T13:36:49.005287Z"
    }
   },
   "outputs": [
    {
     "data": {
      "text/plain": "0.5945945945945946"
     },
     "execution_count": 76,
     "metadata": {},
     "output_type": "execute_result"
    }
   ],
   "source": [
    "f1_score(bin_y_test, bin_target_o)"
   ]
  },
  {
   "cell_type": "code",
   "execution_count": 77,
   "id": "d2d1f840-0a7b-4b57-8900-8d853d3835ed",
   "metadata": {
    "ExecuteTime": {
     "end_time": "2024-06-05T13:36:49.132710Z",
     "start_time": "2024-06-05T13:36:49.043236Z"
    }
   },
   "outputs": [
    {
     "data": {
      "text/plain": "array([0, 0, 0, 0, 0, 0, 0, 0, 0, 0, 0, 0, 0, 0, 0, 0, 0, 0, 0, 0, 0, 0,\n       0, 0, 0, 0, 0, 0, 0, 0, 0, 0, 0, 0, 1, 0, 0, 0, 0, 0, 0, 0, 0, 0,\n       0, 0, 0, 0, 0, 0])"
     },
     "execution_count": 77,
     "metadata": {},
     "output_type": "execute_result"
    }
   ],
   "source": [
    "bin_clf_i = KNeighborsClassifier(n_neighbors=20)\n",
    "bin_clf_i.fit(X_train, bin_y_train)\n",
    "bin_clf_i.predict(X_test)"
   ]
  },
  {
   "cell_type": "code",
   "execution_count": 78,
   "id": "131de77f-248b-4ead-b822-160bbff395b2",
   "metadata": {
    "ExecuteTime": {
     "end_time": "2024-06-05T13:36:49.173239Z",
     "start_time": "2024-06-05T13:36:49.133187Z"
    }
   },
   "outputs": [
    {
     "data": {
      "text/plain": "(50,\n array([[0.8 , 0.2 ],\n        [0.65, 0.35],\n        [0.65, 0.35],\n        [0.65, 0.35],\n        [0.7 , 0.3 ],\n        [0.55, 0.45],\n        [0.7 , 0.3 ],\n        [0.6 , 0.4 ],\n        [0.7 , 0.3 ],\n        [0.65, 0.35],\n        [0.7 , 0.3 ],\n        [0.55, 0.45],\n        [0.95, 0.05],\n        [0.9 , 0.1 ],\n        [0.55, 0.45],\n        [0.85, 0.15],\n        [0.55, 0.45],\n        [0.5 , 0.5 ],\n        [0.7 , 0.3 ],\n        [0.55, 0.45],\n        [0.75, 0.25],\n        [0.7 , 0.3 ],\n        [0.7 , 0.3 ],\n        [0.75, 0.25],\n        [0.65, 0.35],\n        [0.6 , 0.4 ],\n        [1.  , 0.  ],\n        [1.  , 0.  ],\n        [0.6 , 0.4 ],\n        [0.75, 0.25],\n        [0.65, 0.35],\n        [0.65, 0.35],\n        [0.55, 0.45],\n        [0.65, 0.35],\n        [0.45, 0.55],\n        [0.65, 0.35],\n        [0.85, 0.15],\n        [0.6 , 0.4 ],\n        [0.65, 0.35],\n        [0.55, 0.45],\n        [0.65, 0.35],\n        [0.8 , 0.2 ],\n        [0.6 , 0.4 ],\n        [0.65, 0.35],\n        [0.6 , 0.4 ],\n        [0.8 , 0.2 ],\n        [1.  , 0.  ],\n        [0.85, 0.15],\n        [0.7 , 0.3 ],\n        [0.7 , 0.3 ]]))"
     },
     "execution_count": 78,
     "metadata": {},
     "output_type": "execute_result"
    }
   ],
   "source": [
    "proba_target_i = bin_clf_i.predict_proba(X_test)\n",
    "len(proba_target_i), proba_target_i"
   ]
  },
  {
   "cell_type": "code",
   "execution_count": 79,
   "id": "df4a2737-c870-4b84-8b47-180c4cf195f0",
   "metadata": {
    "ExecuteTime": {
     "end_time": "2024-06-05T13:36:49.198734Z",
     "start_time": "2024-06-05T13:36:49.161199Z"
    }
   },
   "outputs": [
    {
     "data": {
      "text/plain": "array([0.2 , 0.35, 0.35, 0.35, 0.3 , 0.45, 0.3 , 0.4 , 0.3 , 0.35, 0.3 ,\n       0.45, 0.05, 0.1 , 0.45, 0.15, 0.45, 0.5 , 0.3 , 0.45, 0.25, 0.3 ,\n       0.3 , 0.25, 0.35, 0.4 , 0.  , 0.  , 0.4 , 0.25, 0.35, 0.35, 0.45,\n       0.35, 0.55, 0.35, 0.15, 0.4 , 0.35, 0.45, 0.35, 0.2 , 0.4 , 0.35,\n       0.4 , 0.2 , 0.  , 0.15, 0.3 , 0.3 ])"
     },
     "execution_count": 79,
     "metadata": {},
     "output_type": "execute_result"
    }
   ],
   "source": [
    "true_proba_target_i = proba_target_i[:,1]\n",
    "true_proba_target_i"
   ]
  },
  {
   "cell_type": "markdown",
   "id": "4cd6b573-0d74-4898-9c80-38a1f126b7f0",
   "metadata": {},
   "source": [
    "# ROC-кривая и ROC AUC"
   ]
  },
  {
   "cell_type": "code",
   "execution_count": 80,
   "id": "f757e15a-8c60-4fb6-8689-1ed8316cfbfe",
   "metadata": {
    "ExecuteTime": {
     "end_time": "2024-06-05T13:36:49.254905Z",
     "start_time": "2024-06-05T13:36:49.199858Z"
    }
   },
   "outputs": [],
   "source": [
    "from sklearn.metrics import roc_curve, roc_auc_score"
   ]
  },
  {
   "cell_type": "code",
   "execution_count": 81,
   "id": "f093f6ea-7b03-4575-8154-72a1c634c29a",
   "metadata": {
    "ExecuteTime": {
     "end_time": "2024-06-05T13:36:49.299537Z",
     "start_time": "2024-06-05T13:36:49.246435Z"
    }
   },
   "outputs": [],
   "source": [
    "def draw_roc_curve(y_true, y_score, pos_label, average):\n",
    "    fpr, tpr, thresholds = roc_curve(y_true, y_score, \n",
    "                                     pos_label=pos_label)\n",
    "    roc_auc_value = roc_auc_score(y_true, y_score, average=average)\n",
    "    plt.figure()\n",
    "    lw = 2\n",
    "    plt.plot(fpr, tpr, color='darkorange',\n",
    "             lw=lw, label='ROC curve (area = %0.2f)' % roc_auc_value)\n",
    "    plt.plot([0, 1], [0, 1], color='navy', lw=lw, linestyle='--')\n",
    "    plt.xlim([0.0, 1.0])\n",
    "    plt.ylim([0.0, 1.05])\n",
    "    plt.xlabel('False Positive Rate')\n",
    "    plt.ylabel('True Positive Rate')\n",
    "    plt.title('Receiver operating characteristic')\n",
    "    plt.legend(loc=\"lower right\")\n",
    "    plt.show()"
   ]
  },
  {
   "cell_type": "code",
   "execution_count": 82,
   "id": "949d0a24-2837-486a-aa76-941d97843f87",
   "metadata": {
    "ExecuteTime": {
     "end_time": "2024-06-05T13:36:49.434597Z",
     "start_time": "2024-06-05T13:36:49.289276Z"
    }
   },
   "outputs": [
    {
     "data": {
      "text/plain": "<Figure size 640x480 with 1 Axes>",
      "image/png": "[encoded data removed]"
     },
     "metadata": {},
     "output_type": "display_data"
    }
   ],
   "source": [
    "draw_roc_curve(bin_y_test, bin_target_i, pos_label=1, average='micro')"
   ]
  },
  {
   "cell_type": "code",
   "execution_count": 83,
   "id": "da382347-185f-403d-a0bb-a121432264b6",
   "metadata": {
    "ExecuteTime": {
     "end_time": "2024-06-05T13:36:49.434957Z",
     "start_time": "2024-06-05T13:36:49.429688Z"
    }
   },
   "outputs": [
    {
     "data": {
      "text/plain": "array([0, 0, 0, 1, 0, 1, 0, 1, 0, 0, 0, 1, 0, 0, 0, 0, 1, 0, 0, 1, 1, 0,\n       0, 0, 1, 0, 0, 0, 0, 0, 0, 0, 0, 0, 1, 0, 0, 1, 1, 1, 0, 0, 0, 0,\n       0, 0, 0, 0, 0, 0])"
     },
     "execution_count": 83,
     "metadata": {},
     "output_type": "execute_result"
    }
   ],
   "source": [
    "bin_clf_o = KNeighborsClassifier(n_neighbors=5)\n",
    "bin_clf_o.fit(X_train, bin_y_train)\n",
    "bin_clf_o.predict(X_test)"
   ]
  },
  {
   "cell_type": "code",
   "execution_count": 84,
   "id": "8f90675f-665a-4154-afe4-6142438cd373",
   "metadata": {
    "ExecuteTime": {
     "end_time": "2024-06-05T13:36:49.605031Z",
     "start_time": "2024-06-05T13:36:49.440679Z"
    }
   },
   "outputs": [
    {
     "data": {
      "text/plain": "(50,\n array([[0.8, 0.2],\n        [0.6, 0.4],\n        [0.6, 0.4],\n        [0.4, 0.6],\n        [0.8, 0.2],\n        [0.4, 0.6],\n        [0.6, 0.4],\n        [0.4, 0.6],\n        [0.8, 0.2],\n        [0.6, 0.4],\n        [0.8, 0.2],\n        [0.4, 0.6],\n        [1. , 0. ],\n        [1. , 0. ],\n        [0.6, 0.4],\n        [1. , 0. ],\n        [0.4, 0.6],\n        [0.6, 0.4],\n        [0.6, 0.4],\n        [0.4, 0.6],\n        [0.4, 0.6],\n        [0.8, 0.2],\n        [0.8, 0.2],\n        [0.6, 0.4],\n        [0.4, 0.6],\n        [0.6, 0.4],\n        [1. , 0. ],\n        [1. , 0. ],\n        [0.8, 0.2],\n        [0.6, 0.4],\n        [0.6, 0.4],\n        [0.6, 0.4],\n        [0.6, 0.4],\n        [0.8, 0.2],\n        [0.4, 0.6],\n        [0.6, 0.4],\n        [1. , 0. ],\n        [0.4, 0.6],\n        [0.4, 0.6],\n        [0.4, 0.6],\n        [0.6, 0.4],\n        [0.8, 0.2],\n        [0.6, 0.4],\n        [1. , 0. ],\n        [0.8, 0.2],\n        [0.8, 0.2],\n        [1. , 0. ],\n        [1. , 0. ],\n        [0.8, 0.2],\n        [0.6, 0.4]]))"
     },
     "execution_count": 84,
     "metadata": {},
     "output_type": "execute_result"
    }
   ],
   "source": [
    "proba_target_o = bin_clf_o.predict_proba(X_test)\n",
    "len(proba_target_o), proba_target_o"
   ]
  },
  {
   "cell_type": "code",
   "execution_count": 85,
   "id": "d0d36e7a-ae79-4890-aceb-224464f01a2d",
   "metadata": {
    "ExecuteTime": {
     "end_time": "2024-06-05T13:36:49.734963Z",
     "start_time": "2024-06-05T13:36:49.477855Z"
    }
   },
   "outputs": [
    {
     "data": {
      "text/plain": "array([0.2, 0.4, 0.4, 0.6, 0.2, 0.6, 0.4, 0.6, 0.2, 0.4, 0.2, 0.6, 0. ,\n       0. , 0.4, 0. , 0.6, 0.4, 0.4, 0.6, 0.6, 0.2, 0.2, 0.4, 0.6, 0.4,\n       0. , 0. , 0.2, 0.4, 0.4, 0.4, 0.4, 0.2, 0.6, 0.4, 0. , 0.6, 0.6,\n       0.6, 0.4, 0.2, 0.4, 0. , 0.2, 0.2, 0. , 0. , 0.2, 0.4])"
     },
     "execution_count": 85,
     "metadata": {},
     "output_type": "execute_result"
    }
   ],
   "source": [
    "true_proba_target_o = proba_target_o[:,1]\n",
    "true_proba_target_o"
   ]
  },
  {
   "cell_type": "code",
   "execution_count": 86,
   "id": "25567a12-65b9-4e8e-94f6-0c5652261ecc",
   "metadata": {
    "ExecuteTime": {
     "end_time": "2024-06-05T13:36:49.761144Z",
     "start_time": "2024-06-05T13:36:49.600613Z"
    }
   },
   "outputs": [
    {
     "data": {
      "text/plain": "<Figure size 640x480 with 1 Axes>",
      "image/png": "[encoded data removed]"
     },
     "metadata": {},
     "output_type": "display_data"
    }
   ],
   "source": [
    "draw_roc_curve(bin_y_test, bin_target_o, pos_label=1, average='micro')"
   ]
  }
 ],
 "metadata": {
  "kernelspec": {
   "display_name": "Python 3 (ipykernel)",
   "language": "python",
   "name": "python3"
  },
  "language_info": {
   "codemirror_mode": {
    "name": "ipython",
    "version": 3
   },
   "file_extension": ".py",
   "mimetype": "text/x-python",
   "name": "python",
   "nbconvert_exporter": "python",
   "pygments_lexer": "ipython3",
   "version": "3.12.0"
  }
 },
 "nbformat": 4,
 "nbformat_minor": 5
}
